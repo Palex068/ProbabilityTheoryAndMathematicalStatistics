{
 "cells": [
  {
   "attachments": {},
   "cell_type": "markdown",
   "metadata": {},
   "source": [
    "# Семинар 6 ДЗ"
   ]
  },
  {
   "attachments": {},
   "cell_type": "markdown",
   "metadata": {},
   "source": [
    "## Задание $1$\n",
    "Известно, что генеральная совокупность распределена нормально со средним квадратическим отклонением, равным $16$.\n",
    "\n",
    "Найти доверительный интервал для оценки математического ожидания $\\alpha$ с надежностью $0.95$, если выборочная средняя $M = 80$, а объем выборки $n = 256$.\n"
   ]
  },
  {
   "attachments": {},
   "cell_type": "markdown",
   "metadata": {},
   "source": [
    "## Решение\n",
    "\n",
    "Для решения этой задачи используем формулу:\n",
    "\n",
    "$P(\\overline X + Z_{\\frac{α}{2}} \\cdot \\dfrac{\\sigma}{\\sqrt{n}} \\leq \\mu \\leq \\overline X + Z_{1- \\frac{α}{2}} \\cdot \\dfrac{\\sigma}{\\sqrt{n}}) = p$\n",
    "\n",
    "Для расчетов используем python"
   ]
  },
  {
   "cell_type": "code",
   "execution_count": 1,
   "metadata": {},
   "outputs": [],
   "source": [
    "from scipy import stats\n",
    "import numpy as np"
   ]
  },
  {
   "cell_type": "code",
   "execution_count": 2,
   "metadata": {},
   "outputs": [],
   "source": [
    "sigma = 16\n",
    "p = 0.95\n",
    "mu = 80\n",
    "n = 256\n",
    "alhpa = 1 - p"
   ]
  },
  {
   "cell_type": "code",
   "execution_count": 3,
   "metadata": {},
   "outputs": [
    {
     "data": {
      "text/plain": [
       "(-1.959963984540054, 1.959963984540054)"
      ]
     },
     "execution_count": 3,
     "metadata": {},
     "output_type": "execute_result"
    }
   ],
   "source": [
    "t1 = stats.norm.ppf(alhpa/2)\n",
    "t2 = stats.norm.ppf(1 - alhpa/2)\n",
    "t1, t2"
   ]
  },
  {
   "cell_type": "code",
   "execution_count": 4,
   "metadata": {},
   "outputs": [
    {
     "data": {
      "text/plain": [
       "(78.04003601545995, 81.95996398454005)"
      ]
     },
     "execution_count": 4,
     "metadata": {},
     "output_type": "execute_result"
    }
   ],
   "source": [
    "left = mu + t1 * sigma / np.sqrt(n)\n",
    "right = mu + t2 * sigma / np.sqrt(n)\n",
    "left, right"
   ]
  },
  {
   "attachments": {},
   "cell_type": "markdown",
   "metadata": {},
   "source": [
    "$P(78.04 \\leq \\mu \\leq 81.96) = 0.95$"
   ]
  },
  {
   "attachments": {},
   "cell_type": "markdown",
   "metadata": {},
   "source": [
    "## Задание $2$ \n",
    "В результате $10$ независимых измерений некоторой величины $X$, выполненных с одинаковой точностью, получены опытные данные:\n",
    "\n",
    "$6.9, 6.1, 6.2, 6.8, 7.5, 6.3, 6.4, 6.9, 6.7, 6.1$\n",
    "\n",
    "Предполагая, что результаты измерений подчинены нормальному закону распределения вероятностей, оценить истинное значение величины $X$ при помощи доверительного интервала, покрывающего это значение с доверительной вероятностью $0,95$.\n"
   ]
  },
  {
   "attachments": {},
   "cell_type": "markdown",
   "metadata": {},
   "source": [
    "## Решение\n",
    "\n",
    "Для решения этой задачи используем формулу:\n",
    "\n",
    "$P(\\overline X + t_{\\frac{α}{2}} \\cdot \\dfrac{\\sigma}{\\sqrt{n}} \\leq \\mu \\leq \\overline X + t_{1- \\frac{α}{2}} \\cdot \\dfrac{\\sigma}{\\sqrt{n}}) = p$\n",
    "\n",
    "Для расчетов используем python"
   ]
  },
  {
   "cell_type": "code",
   "execution_count": 5,
   "metadata": {},
   "outputs": [],
   "source": [
    "x = np.array([6.9, 6.1, 6.2, 6.8, 7.5, 6.3, 6.4, 6.9, 6.7, 6.1])"
   ]
  },
  {
   "cell_type": "code",
   "execution_count": 6,
   "metadata": {},
   "outputs": [],
   "source": [
    "mu = x.mean()\n",
    "sigma = x.std(ddof=1)\n",
    "n = len(x)\n",
    "\n",
    "p = 0.95\n",
    "alhpa = 1-p"
   ]
  },
  {
   "cell_type": "code",
   "execution_count": 7,
   "metadata": {},
   "outputs": [
    {
     "data": {
      "text/plain": [
       "(-2.2621571627409915, 2.2621571627409915)"
      ]
     },
     "execution_count": 7,
     "metadata": {},
     "output_type": "execute_result"
    }
   ],
   "source": [
    "t1 = stats.t.ppf(alhpa/2, df= n - 1)\n",
    "t2 = stats.t.ppf(1 - alhpa/2, df= n - 1)\n",
    "t1, t2"
   ]
  },
  {
   "cell_type": "code",
   "execution_count": 8,
   "metadata": {},
   "outputs": [
    {
     "data": {
      "text/plain": [
       "(6.267515851415713, 6.912484148584288)"
      ]
     },
     "execution_count": 8,
     "metadata": {},
     "output_type": "execute_result"
    }
   ],
   "source": [
    "left = mu + t1 * sigma / np.sqrt(n)\n",
    "right = mu + t2 * sigma / np.sqrt(n)\n",
    "left, right"
   ]
  },
  {
   "attachments": {},
   "cell_type": "markdown",
   "metadata": {},
   "source": [
    "$P(6.2675 \\leq \\mu \\leq 6.9125) = 0.95$"
   ]
  },
  {
   "attachments": {},
   "cell_type": "markdown",
   "metadata": {},
   "source": [
    "## Задание $3$\n",
    "Рост дочерей $175, 167, 154, 174, 178, 148, 160, 167, 169, 170$\n",
    "\n",
    "Рост матерей  $178, 165, 165, 173, 168, 155, 160, 164, 178, 175$\n",
    "\n",
    "Используя эти данные построить $95\\%$ доверительный интервал для разности среднего роста родителей и детей."
   ]
  },
  {
   "attachments": {},
   "cell_type": "markdown",
   "metadata": {},
   "source": [
    "## Решение\n",
    "\n",
    "Формула для нахождения доверительного интервала для разности средних арифметических $µ_1-µ_2$ будет:\n",
    "\n",
    "$Δ± t_{\\frac{α}{2}} \\cdot S_Δ$ , где $Δ= \\overline {X_1} - \\overline {X_2}$\n",
    "\n",
    "$P(Δ + t_{\\frac{α}{2}} \\cdot S_Δ \\leq µ_1-µ_2 \\leq Δ + t_{1 - \\frac{α}{2}} \\cdot S_Δ) = p$\n",
    "\n",
    "$S_Δ= \\sqrt{\\dfrac{D}{n_1} + \\dfrac{D}{n_2} }$, где $n_1$ и  $n_2$ – объемы выборок.\n",
    "\n",
    "$D=\\dfrac{1}{2}\\cdot(D_1+D_2)$, где   $D_1$ и $D_2$ – дисперсии обеих групп\n",
    "\n",
    "Для расчетов используем python"
   ]
  },
  {
   "cell_type": "code",
   "execution_count": 9,
   "metadata": {},
   "outputs": [],
   "source": [
    "x = np.array([175, 167, 154, 174, 178, 148, 160, 167, 169, 170])\n",
    "y = np.array([178, 165, 165, 173, 168, 155, 160, 164, 178, 175])"
   ]
  },
  {
   "cell_type": "code",
   "execution_count": 12,
   "metadata": {},
   "outputs": [
    {
     "data": {
      "text/plain": [
       "(91.06666666666666, 60.10000000000001, 75.58333333333334, 3.888015775002291)"
      ]
     },
     "execution_count": 12,
     "metadata": {},
     "output_type": "execute_result"
    }
   ],
   "source": [
    "n1 = len(x)\n",
    "n2 = len(y)\n",
    "\n",
    "d1 = x.var(ddof=1)\n",
    "d2 = y.var(ddof=1)\n",
    "\n",
    "D = (d1 + d2)/2\n",
    "S_delta = (d1/n1 + d2/n2)**0.5\n",
    "d1, d2, D, S_delta"
   ]
  },
  {
   "cell_type": "code",
   "execution_count": 11,
   "metadata": {},
   "outputs": [
    {
     "data": {
      "text/plain": [
       "(-2.10092204024096, 2.10092204024096)"
      ]
     },
     "execution_count": 11,
     "metadata": {},
     "output_type": "execute_result"
    }
   ],
   "source": [
    "p = 0.95\n",
    "alhpa = 1 - p\n",
    "\n",
    "t1 = stats.t.ppf(alhpa/2, df= 2*(n - 1))\n",
    "t2 = stats.t.ppf(1 - alhpa/2, df= 2 * (n - 1))\n",
    "t1, t2"
   ]
  },
  {
   "cell_type": "code",
   "execution_count": 13,
   "metadata": {},
   "outputs": [
    {
     "data": {
      "text/plain": [
       "(-10.068418034506857, 6.268418034506846)"
      ]
     },
     "execution_count": 13,
     "metadata": {},
     "output_type": "execute_result"
    }
   ],
   "source": [
    "left = x.mean() - y.mean() + t1 * S_delta\n",
    "right = x.mean() - y.mean() + t2 * S_delta\n",
    "left, right"
   ]
  },
  {
   "attachments": {},
   "cell_type": "markdown",
   "metadata": {},
   "source": [
    "$P(-10.0684 \\leq µ_1-µ_2 \\leq 6.2684) = 0.95$"
   ]
  }
 ],
 "metadata": {
  "kernelspec": {
   "display_name": "Python 3",
   "language": "python",
   "name": "python3"
  },
  "language_info": {
   "codemirror_mode": {
    "name": "ipython",
    "version": 3
   },
   "file_extension": ".py",
   "mimetype": "text/x-python",
   "name": "python",
   "nbconvert_exporter": "python",
   "pygments_lexer": "ipython3",
   "version": "3.10.11"
  },
  "orig_nbformat": 4
 },
 "nbformat": 4,
 "nbformat_minor": 2
}
