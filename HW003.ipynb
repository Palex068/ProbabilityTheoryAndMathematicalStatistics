{
 "cells": [
  {
   "attachments": {},
   "cell_type": "markdown",
   "metadata": {},
   "source": [
    "# Семинар 3 ДЗ"
   ]
  },
  {
   "attachments": {},
   "cell_type": "markdown",
   "metadata": {},
   "source": [
    "## Задание 1\n",
    "\n",
    "Даны значения зарплат из выборки выпускников: 100, 80, 75, 77, 89, 33, 45, 25, 65, 17, 30, 24, 57, 55, 70, 75, 65, 84, 90, 150. \n",
    "\n",
    "Посчитать (желательно без использования статистических методов наподобие std, var, mean):\n",
    "+ среднее арифметическое,\n",
    "+ среднее квадратичное отклонение,\n",
    "+ смещенную и несмещенную оценки дисперсий для данной выборки."
   ]
  },
  {
   "attachments": {},
   "cell_type": "markdown",
   "metadata": {},
   "source": [
    "## Решение\n",
    "\n",
    "Первоначально выполним задание \"вручную\", а потом проверим при помощи python\n",
    "\n",
    "1. Среднее арифметическое / выборочное среднее\n",
    "\n",
    "$\\bar X= \\dfrac{1}{m} \\cdot \\displaystyle \\sum_{i=1}^m x_i$\n",
    "\n",
    "$\\bar X= \\dfrac{17+24+25+30+33+45+55+57+65+65+70+75+75+77+80+84+89+90+100+150}{20} = \\dfrac{1306}{20} = 65.3$\n",
    "\n",
    "\n",
    "\n"
   ]
  },
  {
   "cell_type": "code",
   "execution_count": 1,
   "metadata": {},
   "outputs": [
    {
     "name": "stdout",
     "output_type": "stream",
     "text": [
      "17 24 25 30 33 45 55 57 65 65 70 75 75 77 80 84 89 90 100 150\n",
      "20\n",
      "1306\n",
      "65.3\n"
     ]
    }
   ],
   "source": [
    "P = sorted([100, 80, 75, 77, 89, 33, 45, 25, 65, 17, 30, 24, 57, 55, 70, 75, 65, 84, 90, 150])\n",
    "print(*P)\n",
    "print(len(P))\n",
    "print(sum(P))\n",
    "print(sum(P)/len(P))"
   ]
  },
  {
   "cell_type": "code",
   "execution_count": 2,
   "metadata": {},
   "outputs": [
    {
     "name": "stdout",
     "output_type": "stream",
     "text": [
      "65.3\n"
     ]
    }
   ],
   "source": [
    "# Проверим результат\n",
    "import numpy as np\n",
    "print(np.mean(P))"
   ]
  },
  {
   "attachments": {},
   "cell_type": "markdown",
   "metadata": {},
   "source": [
    "2. Cреднее квадратичное отклонение\n",
    "\n",
    "${\\displaystyle S={\\sqrt {{\\frac {1}{n}}\\sum _{i=1}^{n}\\left(a_{i}-{\\bar {a}}\\right)^{2}}}}$\n",
    "\n",
    "Где $\\bar {a} $ это среднее арифметическое чисел $ a_{1}\\ldots a_{n} $.\n"
   ]
  },
  {
   "cell_type": "code",
   "execution_count": 3,
   "metadata": {},
   "outputs": [
    {
     "name": "stdout",
     "output_type": "stream",
     "text": [
      "30.823854398825596\n"
     ]
    }
   ],
   "source": [
    "# Напишем код для нахождения СКО\n",
    "M = sum(P)/len(P)\n",
    "result = 0\n",
    "for a in P:\n",
    "    result += (a - M)**2\n",
    "print((result/len(P))**0.5)"
   ]
  },
  {
   "cell_type": "code",
   "execution_count": 4,
   "metadata": {},
   "outputs": [
    {
     "data": {
      "text/plain": [
       "30.823854398825592"
      ]
     },
     "execution_count": 4,
     "metadata": {},
     "output_type": "execute_result"
    }
   ],
   "source": [
    "\n",
    "# Проверим результат\n",
    "np.std(P)"
   ]
  },
  {
   "attachments": {},
   "cell_type": "markdown",
   "metadata": {},
   "source": [
    "3. Смещенную и несмещенную оценки дисперсий для данной выборки"
   ]
  },
  {
   "attachments": {},
   "cell_type": "markdown",
   "metadata": {},
   "source": [
    "Несмещенная дисперсия\n",
    "\n",
    "$σ^2=\\dfrac{1}{m} \\cdot \\displaystyle\\sum _{i=1}^m (x_i  - \\bar x)^2$"
   ]
  },
  {
   "cell_type": "code",
   "execution_count": 5,
   "metadata": {},
   "outputs": [
    {
     "name": "stdout",
     "output_type": "stream",
     "text": [
      "950.11\n"
     ]
    }
   ],
   "source": [
    "# Напишем код для нахождения несмещённой дисперсии\n",
    "M = sum(P)/len(P)\n",
    "result = 0\n",
    "for a in P:\n",
    "    result += (a - M)**2\n",
    "print(result/len(P))"
   ]
  },
  {
   "attachments": {},
   "cell_type": "markdown",
   "metadata": {},
   "source": [
    "Смещенная дисперсия, со степенью свободы $1$\n",
    "\n",
    "$σ^2=\\dfrac{1}{n-1} \\cdot \\displaystyle\\sum _{i=1}^n (x_i  - \\bar X)^2$"
   ]
  },
  {
   "cell_type": "code",
   "execution_count": 41,
   "metadata": {},
   "outputs": [
    {
     "name": "stdout",
     "output_type": "stream",
     "text": [
      "1000.1158\n"
     ]
    }
   ],
   "source": [
    "# Напишем код для нахождения несмещённой дисперсии\n",
    "M = sum(P)/len(P)\n",
    "result = 0\n",
    "for a in P:\n",
    "    result += (a - M)**2\n",
    "print(round(result/(len(P)-1), 4))"
   ]
  },
  {
   "cell_type": "code",
   "execution_count": 43,
   "metadata": {},
   "outputs": [
    {
     "name": "stdout",
     "output_type": "stream",
     "text": [
      "950.11\n",
      "1000.1158\n"
     ]
    }
   ],
   "source": [
    "# Проверим результат\n",
    "print(round(np.var(P, ddof=0), 4))\n",
    "print(round(np.var(P, ddof=1), 4))"
   ]
  },
  {
   "attachments": {},
   "cell_type": "markdown",
   "metadata": {},
   "source": [
    "## Задание 2\n",
    "В первом ящике находится $8$ мячей, из которых $5$ - белые. \n",
    "\n",
    "Во втором ящике - $12$ мячей, из которых $5$ белых. \n",
    "\n",
    "Из первого ящика вытаскивают случайным образом два мяча, из второго - $4$. \n",
    "\n",
    "Какова вероятность того, что $3$ мяча белые?"
   ]
  },
  {
   "attachments": {},
   "cell_type": "markdown",
   "metadata": {},
   "source": [
    "## Решение\n",
    "\n",
    "Используем формулу полной вероятности для $3$ случаев:\n",
    "1. Из первого ящика мы достаём $2$ белых шара и $1$ из второго\n",
    "2. Из первого ящика мы достаём $1$ белый шар и $2$ из второго\n",
    "3. Из первого ящика мы достаём $0$ белых шаров и $3$ из второго\n",
    "\n",
    "Для $1$ случая:\n",
    "\n",
    "$P_1 = \\dfrac{C_5^2}{C_8^2} \\cdot \\dfrac{C_5^1 \\cdot C_7^3}{C_{12}^4} \\approx 0.1263$"
   ]
  },
  {
   "cell_type": "code",
   "execution_count": 54,
   "metadata": {},
   "outputs": [],
   "source": [
    "from math import factorial as fc\n",
    "def c (k,n): # сочетание\n",
    "    return (fc(n) // (fc(k)*fc(n-k)))"
   ]
  },
  {
   "cell_type": "code",
   "execution_count": 60,
   "metadata": {},
   "outputs": [
    {
     "data": {
      "text/plain": [
       "0.1263"
      ]
     },
     "execution_count": 60,
     "metadata": {},
     "output_type": "execute_result"
    }
   ],
   "source": [
    "P_1 = (c(2,5)*c(1,5)*c(3,7))/(c(2,8)*c(4,12))\n",
    "round(P_1, 4)"
   ]
  },
  {
   "attachments": {},
   "cell_type": "markdown",
   "metadata": {},
   "source": [
    "Для $2$ случая:\n",
    "\n",
    "$P_2 = \\dfrac{C_5^1 \\cdot C_3^1}{C_8^2} \\cdot \\dfrac{C_5^2 \\cdot C_7^2}{C_{12}^4} \\approx 0.2273$"
   ]
  },
  {
   "cell_type": "code",
   "execution_count": 64,
   "metadata": {},
   "outputs": [
    {
     "data": {
      "text/plain": [
       "0.2273"
      ]
     },
     "execution_count": 64,
     "metadata": {},
     "output_type": "execute_result"
    }
   ],
   "source": [
    "P_2 = (c(1,5)*c(2,5)*c(2,7)*c(1,3))/(c(2,8)*c(4,12))\n",
    "round(P_2, 4)"
   ]
  },
  {
   "attachments": {},
   "cell_type": "markdown",
   "metadata": {},
   "source": [
    "Для $3$ случая:\n",
    "\n",
    "$P_3 = \\dfrac{C_3^2}{C_8^2} \\cdot \\dfrac{C_5^3 \\cdot C_7^1}{C_{12}^4} \\approx 0.0152$"
   ]
  },
  {
   "cell_type": "code",
   "execution_count": 66,
   "metadata": {},
   "outputs": [
    {
     "data": {
      "text/plain": [
       "0.0152"
      ]
     },
     "execution_count": 66,
     "metadata": {},
     "output_type": "execute_result"
    }
   ],
   "source": [
    "P_3 = (c(2,3)*c(3,5)*c(1,7))/(c(2,8)*c(4,12))\n",
    "round(P_3, 4)"
   ]
  },
  {
   "attachments": {},
   "cell_type": "markdown",
   "metadata": {},
   "source": [
    "$P = P_1 + P_2 + P_3 \\approx 0.3687$"
   ]
  },
  {
   "cell_type": "code",
   "execution_count": 68,
   "metadata": {},
   "outputs": [
    {
     "data": {
      "text/plain": [
       "0.3687"
      ]
     },
     "execution_count": 68,
     "metadata": {},
     "output_type": "execute_result"
    }
   ],
   "source": [
    "P = P_1 + P_2 + P_3\n",
    "round(P, 4)"
   ]
  },
  {
   "attachments": {},
   "cell_type": "markdown",
   "metadata": {},
   "source": [
    "## Задание 3\n",
    "\n",
    "На соревновании по биатлону один из трех спортсменов стреляет и попадает в мишень. \n",
    "\n",
    "Вероятность попадания для\n",
    "+ первого спортсмена равна $0.9$, для\n",
    "+ второго — $0.8$, для\n",
    "+ третьего — $0.6$. \n",
    "\n",
    "Найти вероятность того, что выстрел произведен: \n",
    "\n",
    "1. первым спортсменом\n",
    "2. вторым спортсменом\n",
    "3. третьим спортсменом."
   ]
  },
  {
   "attachments": {},
   "cell_type": "markdown",
   "metadata": {},
   "source": [
    "## Решение\n",
    "Для решения этой задачи будем использовать формулу Байеса, так как событие - попадание в цель уже произошло:\n",
    "\n",
    "$P(B│A)=\\dfrac{P(A│B)*P(B)}{P(A)}$\n",
    "\n",
    "$A$ - попадание в мишень\n",
    "$B_i$ - стрелок\n",
    "\n",
    "$P(B_i|A) = \\dfrac{P(A|B_i) \\cdot P(B_i)}{P(A)}$\n",
    "\n",
    "$P(A) = 0.9 \\cdot \\dfrac{1}{3} + 0.8 \\cdot \\dfrac{1}{3} + 0.6 \\cdot \\dfrac{1}{3} \\approx 0.7667 $\n",
    "\n",
    "$P(B_1|A) = \\dfrac{0.9 \\cdot \\dfrac{1}{3}}{0.7667} \\approx 0.3913$\n",
    "\n",
    "$P(B_2|A) = \\dfrac{0.8 \\cdot \\dfrac{1}{3}}{0.7667} \\approx 0.3478$\n",
    "\n",
    "$P(B_3|A) = \\dfrac{0.6 \\cdot \\dfrac{1}{3}}{0.7667} \\approx 0.2609$"
   ]
  },
  {
   "cell_type": "code",
   "execution_count": 85,
   "metadata": {},
   "outputs": [
    {
     "name": "stdout",
     "output_type": "stream",
     "text": [
      "P(A) 0.7667\n",
      "P(1) 0.3913\n",
      "P(2) 0.3478\n",
      "P(3) 0.2609\n",
      "1.0 - проверка всех вероятностей\n"
     ]
    }
   ],
   "source": [
    "P_A = 0.9 / 3 + 0.8 / 3 + 0.6 / 3\n",
    "print(\"P(A)\", round(P_A, 4))\n",
    "P_1 = (0.9 / 3)/(0.7667) \n",
    "print(\"P(1)\", round(P_1, 4))\n",
    "P_2 = (0.8 / 3)/(0.7667) \n",
    "print(\"P(2)\", round(P_2, 4))\n",
    "P_3 = (0.6 / 3)/(0.7667) \n",
    "print(\"P(3)\", round(P_3, 4))\n",
    "print(round(P_1 + P_2 + P_3, 4), \"- проверка всех вероятностей\")"
   ]
  },
  {
   "attachments": {},
   "cell_type": "markdown",
   "metadata": {},
   "source": [
    "## Задание 4\n",
    "\n",
    "В университет на факультеты $A$ и $B$ поступило равное количество студентов, а на факультет $C$ студентов поступило столько же, сколько на $A$ и $B$ вместе. \n",
    "\n",
    "Вероятность того, что студент факультета\n",
    "+ $A$ сдаст первую сессию, равна $0.8$. Для студента факультета\n",
    "+ $B$ эта вероятность равна $0.7$, а для студента факультета\n",
    "+ $C - 0.9.$ \n",
    "\n",
    "Студент сдал первую сессию. \n",
    "\n",
    "Какова вероятность, что он учится: \n",
    "1. на факультете $A$ \n",
    "2. на факультете $B$ \n",
    "3. на факультете $C$?"
   ]
  },
  {
   "attachments": {},
   "cell_type": "markdown",
   "metadata": {},
   "source": [
    "## Решение\n",
    "В этой задаче также используется формула Байеса:\n",
    "\n",
    "$P(B│A)=\\dfrac{P(A│B)*P(B)}{P(A)}$\n",
    "\n",
    "$A$ - сдача сессии\n",
    "$B_i$ - факультет студента\n",
    "\n",
    "$P(B_i|A) = \\dfrac{P(A|B_i) \\cdot P(B_i)}{P(A)}$\n",
    "\n",
    "$P(A) = 0.8 \\cdot 0.25 + 0.7 \\cdot 0.25 + 0.9 \\cdot 0.5 = 0.825$\n",
    "\n",
    "$P(B_1|A) = \\dfrac{0.8 \\cdot 0.25}{0.825} \\approx 0.2424$\n",
    "\n",
    "$P(B_2|A) = \\dfrac{0.7 \\cdot 0.25}{0.825} \\approx 0.2121$\n",
    "\n",
    "$P(B_3|A) = \\dfrac{0.9 \\cdot 0.5}{0.825} \\approx 0.5455$\n",
    "\n"
   ]
  },
  {
   "cell_type": "code",
   "execution_count": 88,
   "metadata": {},
   "outputs": [
    {
     "name": "stdout",
     "output_type": "stream",
     "text": [
      "P(A) 0.825\n",
      "P(1) 0.2424\n",
      "P(2) 0.2121\n",
      "P(3) 0.5455\n",
      "1.0 - проверка всех вероятностей\n"
     ]
    }
   ],
   "source": [
    "P_A = 0.8 * 0.25 + 0.7 * 0.25 + 0.9 * 0.5\n",
    "print(\"P(A)\", round(P_A, 4))\n",
    "\n",
    "P_1 = (0.8 * 0.25)/(0.825) \n",
    "print(\"P(1)\", round(P_1, 4))\n",
    "P_2 = (0.7 * 0.25)/(0.825) \n",
    "print(\"P(2)\", round(P_2, 4))\n",
    "P_3 = (0.9 * 0.5)/(0.825) \n",
    "print(\"P(3)\", round(P_3, 4))\n",
    "print(round(P_1 + P_2 + P_3, 4), \"- проверка всех вероятностей\")"
   ]
  },
  {
   "attachments": {},
   "cell_type": "markdown",
   "metadata": {},
   "source": [
    "## Задание 5\n",
    "\n",
    "Устройство состоит из трех деталей.\n",
    "\n",
    "+ Для первой детали вероятность выйти из строя в первый месяц равна $0.1$, для\n",
    "+ второй - $0.2$, для\n",
    "+ третьей - $0.25$. \n",
    "\n",
    "Какова вероятность того, что в первый месяц выйдут из строя: \n",
    "1. все детали \n",
    "2. только две детали \n",
    "3. хотя бы одна деталь \n",
    "4. от одной до двух деталей?\n",
    "\n"
   ]
  },
  {
   "attachments": {},
   "cell_type": "markdown",
   "metadata": {},
   "source": [
    "## Решение\n",
    "\n",
    "1. Из строя выходят три детали:\n",
    "\n",
    "$P_1 = 0.1 * 0.2 * 0.25 = 0.005$\n",
    "\n",
    "2. Из строя выходят только две детали\n",
    "\n",
    "$P_2 = 0.1 * 0.2 * 0.75 + 0.1 * 0.8 * 0.25 + 0.9 * 0.2 * 0.25 = 0.08$\n",
    "\n",
    "3. Из строя выходит хотя бы одна деталь\n",
    "\n",
    "$P_3 = 1 - 0.9 * 0.8 * 0.75 = 0.46$\n",
    "\n",
    "4. Из строя выходят от одной до двух деталей\n",
    "\n",
    "$P_4 = P_3 - P_1 = 0.455$"
   ]
  },
  {
   "cell_type": "code",
   "execution_count": 97,
   "metadata": {},
   "outputs": [
    {
     "name": "stdout",
     "output_type": "stream",
     "text": [
      "0.005\n",
      "0.08\n",
      "0.46\n",
      "0.455\n"
     ]
    },
    {
     "ename": "",
     "evalue": "",
     "output_type": "error",
     "traceback": [
      "\u001b[1;31mПри выполнении кода в текущей ячейке или предыдущей ячейке ядро аварийно завершило работу. Проверьте код в ячейках, чтобы определить возможную причину сбоя. Щелкните <a href=\"https://aka.ms/vscodeJupyterKernelCrash\">здесь</a> для получения дополнительных сведений. Подробнее см. в <a href='command:jupyter.viewOutput'>журнале Jupyter</a>."
     ]
    }
   ],
   "source": [
    "P_1 = 0.1 * 0.2 * 0.25\n",
    "print(round(P_1,4))\n",
    "\n",
    "P_2 = 0.1 * 0.2 * 0.75 + 0.1 * 0.8 * 0.25 + 0.9 * 0.2 * 0.25\n",
    "print(round(P_2,4))\n",
    "\n",
    "P_3 = 1 - 0.9 * 0.8 * 0.75\n",
    "print(round(P_3, 4))\n",
    "\n",
    "P_4 = P_3 - P_1\n",
    "print(round(P_4, 4))"
   ]
  }
 ],
 "metadata": {
  "kernelspec": {
   "display_name": "Python 3",
   "language": "python",
   "name": "python3"
  },
  "language_info": {
   "codemirror_mode": {
    "name": "ipython",
    "version": 3
   },
   "file_extension": ".py",
   "mimetype": "text/x-python",
   "name": "python",
   "nbconvert_exporter": "python",
   "pygments_lexer": "ipython3",
   "version": "3.10.11"
  },
  "orig_nbformat": 4
 },
 "nbformat": 4,
 "nbformat_minor": 2
}
