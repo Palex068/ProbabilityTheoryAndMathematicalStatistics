{
 "cells": [
  {
   "attachments": {},
   "cell_type": "markdown",
   "metadata": {},
   "source": [
    "# Семинар 5"
   ]
  },
  {
   "attachments": {},
   "cell_type": "markdown",
   "metadata": {},
   "source": [
    "## Задача 1\n",
    "\n",
    "Ниже приведены диаметры коронарных артерий после приема нифедипина и плацебо. \n",
    "\n",
    "Позволяют ли приводимые ниже данные утверждать, что нифедипин влияет на диаметр коронарных артерий?\n",
    "1. Выполнить расчеты в Python\n",
    "2. Сделайте расчет в ручную\n",
    "3. Сравните критерий Стьюдента и p-value со значениями, полученными в Python\n",
    "\n",
    "```python\n",
    "x = np.array([2.5, 2.2, 2.6, 2, 2.1, 1.8,2.4, 2.3, 2.7, 2.7, 1.9])\n",
    "y = np.array([2.5, 1.7, 1.5, 2.5, 1.4, 1.9, 2.3, 2.0, 2.6, 2.3, 2.2])\n",
    "```\n",
    "\n",
    "$t_н = \\dfrac{\\overline{X_1}−\\overline{X_2}}{\\sqrt {\\dfrac{\\sigma_1^2}{𝑛_1} + \\dfrac{\\sigma_2^2}{𝑛_2}}}$\n",
    "\n",
    "Используемая литература для подготовки задач к семинару: \n",
    "Гланц С. «Медико-биологическая статистика»"
   ]
  },
  {
   "cell_type": "code",
   "execution_count": 1,
   "metadata": {},
   "outputs": [],
   "source": [
    "import numpy as np\n",
    "import scipy.stats as stats\n",
    "\n",
    "x = np.array([2.5, 2.2, 2.6, 2, 2.1, 1.8,2.4, 2.3, 2.7, 2.7, 1.9])\n",
    "y = np.array([2.5, 1.7, 1.5, 2.5, 1.4, 1.9, 2.3, 2.0, 2.6, 2.3, 2.2])"
   ]
  },
  {
   "cell_type": "code",
   "execution_count": 13,
   "metadata": {},
   "outputs": [
    {
     "name": "stdout",
     "output_type": "stream",
     "text": [
      "2.2909090909090906 2.0818181818181816 0.10090909090909095 0.17163636363636364 11 11\n"
     ]
    },
    {
     "data": {
      "text/plain": [
       "[2.2909, 2.0818, 0.1009, 0.1716, 11, 11]"
      ]
     },
     "execution_count": 13,
     "metadata": {},
     "output_type": "execute_result"
    }
   ],
   "source": [
    "x_mean = np.mean(x) # Считаем среднее по x\n",
    "y_mean = np.mean(y) # Считаем среднее по y\n",
    "x_v = np.var(x, ddof=1) # Считаем несмещенную дисперсию по x\n",
    "y_v = np.var(y, ddof=1) # Считаем несмещенную дисперсию по y\n",
    "n_x = len(x) # количество элементов выборки x\n",
    "n_y = len(y) # количество элементов выборки Y\n",
    "print(x_mean, y_mean, x_v, y_v, n_x, n_y)\n",
    "result = [round(k, 4) for k in (x_mean, y_mean, x_v, y_v, n_x, n_y)]\n",
    "result"
   ]
  },
  {
   "cell_type": "code",
   "execution_count": 15,
   "metadata": {},
   "outputs": [
    {
     "data": {
      "text/plain": [
       "1.3283484757831465"
      ]
     },
     "execution_count": 15,
     "metadata": {},
     "output_type": "execute_result"
    }
   ],
   "source": [
    "t_emp = (x_mean - y_mean) / np.sqrt(x_v / n_x + y_v / n_y)\n",
    "t_emp"
   ]
  },
  {
   "cell_type": "code",
   "execution_count": 18,
   "metadata": {},
   "outputs": [
    {
     "data": {
      "text/plain": [
       "(-2.085963447265837, 2.0859634472658364)"
      ]
     },
     "execution_count": 18,
     "metadata": {},
     "output_type": "execute_result"
    }
   ],
   "source": [
    "alpha = 0.05\n",
    "n = n_x\n",
    "\n",
    "t1 = stats.t.ppf(alpha / 2, df=2 * (n - 1))\n",
    "t2 = stats.t.ppf(1 - alpha / 2, df= 2 * (n - 1))\n",
    "t1, t2 # находим критические значения"
   ]
  },
  {
   "cell_type": "code",
   "execution_count": 19,
   "metadata": {},
   "outputs": [
    {
     "data": {
      "text/plain": [
       "Ttest_indResult(statistic=1.3283484757831463, pvalue=0.19902265798859645)"
      ]
     },
     "execution_count": 19,
     "metadata": {},
     "output_type": "execute_result"
    }
   ],
   "source": [
    "stats.ttest_ind(x, y) # для независимых выборок"
   ]
  },
  {
   "cell_type": "code",
   "execution_count": 20,
   "metadata": {},
   "outputs": [
    {
     "data": {
      "text/plain": [
       "(-1.965942323976193, 1.9659423239761926)"
      ]
     },
     "execution_count": 20,
     "metadata": {},
     "output_type": "execute_result"
    }
   ],
   "source": [
    "# Задача 2\n",
    "\n",
    "alpha = 0.05\n",
    "n = 200\n",
    "\n",
    "t1 = stats.t.ppf(alpha / 2, df=2 * (n - 1))\n",
    "t2 = stats.t.ppf(1 - alpha / 2, df= 2 * (n - 1))\n",
    "t1, t2 # находим критические значения"
   ]
  },
  {
   "cell_type": "code",
   "execution_count": 8,
   "metadata": {},
   "outputs": [
    {
     "data": {
      "text/plain": [
       "-2.3263478740408408"
      ]
     },
     "execution_count": 8,
     "metadata": {},
     "output_type": "execute_result"
    }
   ],
   "source": [
    "# Задача 3\n",
    "alpha = 0.01\n",
    "n = 100\n",
    "\n",
    "t1 = stats.norm.ppf(alpha)  # ЛКО - левосторонняя критическая область\n",
    "\n",
    "t1"
   ]
  }
 ],
 "metadata": {
  "kernelspec": {
   "display_name": "Python 3 (ipykernel)",
   "language": "python",
   "name": "python3"
  },
  "language_info": {
   "codemirror_mode": {
    "name": "ipython",
    "version": 3
   },
   "file_extension": ".py",
   "mimetype": "text/x-python",
   "name": "python",
   "nbconvert_exporter": "python",
   "pygments_lexer": "ipython3",
   "version": "3.9.13"
  }
 },
 "nbformat": 4,
 "nbformat_minor": 2
}
