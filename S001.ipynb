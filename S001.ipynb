{
 "cells": [
  {
   "attachments": {},
   "cell_type": "markdown",
   "metadata": {},
   "source": [
    "# Домашняя работа Семинар 1"
   ]
  },
  {
   "cell_type": "code",
   "execution_count": 1,
   "metadata": {},
   "outputs": [],
   "source": [
    "import numpy as np\n",
    "from math import factorial as fc"
   ]
  },
  {
   "attachments": {},
   "cell_type": "markdown",
   "metadata": {},
   "source": [
    "Добавлю функции нахождения количества сочетаний, размещений и перестановок"
   ]
  },
  {
   "cell_type": "code",
   "execution_count": 2,
   "metadata": {},
   "outputs": [],
   "source": [
    "def c (k,n): # сочетание\n",
    "    return fc(n) // (fc(k)*fc(n-k))\n",
    "\n",
    "def a (k,n): # размещение\n",
    "    return fc(n) // fc(n-k)\n",
    "\n",
    "def p (n): # перестановка\n",
    "    return fc(n)"
   ]
  },
  {
   "attachments": {},
   "cell_type": "markdown",
   "metadata": {},
   "source": [
    "## Задание 1<br>\n",
    "Из колоды в 52 карты извлекаются случайным образом 4 карты.<br>\n",
    "a) Найти вероятность того, что все карты – крести.<br> \n",
    "б) Найти вероятность, что среди 4-х карт окажется хотя бы один туз."
   ]
  },
  {
   "attachments": {},
   "cell_type": "markdown",
   "metadata": {},
   "source": [
    "Решим часть а:<br>\n",
    "\n",
    "Для того, чтобы найти вероятность нужно применить формулу:<br>\n",
    "\n",
    "$P=\\frac{число\\: исходов,\\: благоприятствующих\\: событию}{общее\\: число\\: исходов}$<br>\n",
    "\n",
    "Сначала найдем число благоприятных исходов:<br>\n",
    "\n",
    "Всего в колоде 13 крестей, значит нам нужно найти сочетание 4 из 13<br>\n",
    "\n",
    "$C_{13}^4=\\frac{13!}{4!(13-4)!}=715$"
   ]
  },
  {
   "cell_type": "code",
   "execution_count": 3,
   "metadata": {},
   "outputs": [
    {
     "data": {
      "text/plain": [
       "715"
      ]
     },
     "execution_count": 3,
     "metadata": {},
     "output_type": "execute_result"
    }
   ],
   "source": [
    "c(4,13)"
   ]
  },
  {
   "attachments": {},
   "cell_type": "markdown",
   "metadata": {},
   "source": [
    "Теперь нам нужно найти общее число исходов 4 из 52 карт<br>\n",
    "\n",
    "$C_{52}^4=\\frac{52!}{4!*(52-4)!}=\\frac{52*51*50*49*48!}{24*48!}=270725$"
   ]
  },
  {
   "cell_type": "code",
   "execution_count": 4,
   "metadata": {},
   "outputs": [
    {
     "data": {
      "text/plain": [
       "270725"
      ]
     },
     "execution_count": 4,
     "metadata": {},
     "output_type": "execute_result"
    }
   ],
   "source": [
    "c(4,52)"
   ]
  },
  {
   "attachments": {},
   "cell_type": "markdown",
   "metadata": {},
   "source": [
    "Найдем вероятность<br>\n",
    "\n",
    "$P=715/270725=$"
   ]
  },
  {
   "cell_type": "code",
   "execution_count": 7,
   "metadata": {},
   "outputs": [
    {
     "data": {
      "text/plain": [
       "0.0026410564225690276"
      ]
     },
     "execution_count": 7,
     "metadata": {},
     "output_type": "execute_result"
    }
   ],
   "source": [
    "715/270725"
   ]
  }
 ],
 "metadata": {
  "kernelspec": {
   "display_name": "Python 3",
   "language": "python",
   "name": "python3"
  },
  "language_info": {
   "codemirror_mode": {
    "name": "ipython",
    "version": 3
   },
   "file_extension": ".py",
   "mimetype": "text/x-python",
   "name": "python",
   "nbconvert_exporter": "python",
   "pygments_lexer": "ipython3",
   "version": "3.10.11"
  },
  "orig_nbformat": 4
 },
 "nbformat": 4,
 "nbformat_minor": 2
}
