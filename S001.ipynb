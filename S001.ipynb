{
 "cells": [
  {
   "attachments": {},
   "cell_type": "markdown",
   "metadata": {},
   "source": [
    "# Домашняя работа Семинар 1"
   ]
  },
  {
   "cell_type": "code",
   "execution_count": 1,
   "metadata": {},
   "outputs": [],
   "source": [
    "import numpy as np\n",
    "from math import factorial as fc\n",
    "from fractions import Fraction"
   ]
  },
  {
   "attachments": {},
   "cell_type": "markdown",
   "metadata": {},
   "source": [
    "Добавлю функции нахождения количества сочетаний, размещений и перестановок"
   ]
  },
  {
   "cell_type": "code",
   "execution_count": 11,
   "metadata": {},
   "outputs": [],
   "source": [
    "def c (k,n): # сочетание\n",
    "    return (fc(n) // (fc(k)*fc(n-k)))\n",
    "\n",
    "def cf (k,n): # сочетание с неправильной дробью\n",
    "    return Fraction(fc(n) // (fc(k)*fc(n-k)))\n",
    "\n",
    "def a (k,n): # размещение\n",
    "    return (fc(n) // fc(n-k))\n",
    "\n",
    "def af (k,n): # размещение с неправильной дробью\n",
    "    return Fraction(fc(n) // fc(n-k))\n",
    "\n",
    "def p (n): # перестановка\n",
    "    return fc(n)"
   ]
  },
  {
   "attachments": {},
   "cell_type": "markdown",
   "metadata": {},
   "source": [
    "## Задание 1<br>\n",
    "Из колоды в $52$ карты извлекаются случайным образом $4$ карты.<br>\n",
    "a) Найти вероятность того, что все карты – крести.<br> \n",
    "б) Найти вероятность, что среди $4$-х карт окажется хотя бы один туз."
   ]
  },
  {
   "attachments": {},
   "cell_type": "markdown",
   "metadata": {},
   "source": [
    "Решим часть а:<br>\n",
    "\n",
    "Для того, чтобы найти вероятность нужно применить формулу:<br>\n",
    "\n",
    "$P=\\dfrac{число\\: исходов,\\: благоприятствующих\\: событию}{общее\\: число\\: исходов}$<br>\n",
    "\n",
    "Сначала найдем число благоприятных исходов:<br>\n",
    "\n",
    "Всего в колоде $13$ крестей, значит нам нужно найти сочетание $4$ из $13$<br>\n",
    "\n",
    "$C_{13}^4=\\dfrac{13!}{4!(13-4)!}=715$"
   ]
  },
  {
   "cell_type": "code",
   "execution_count": 12,
   "metadata": {},
   "outputs": [
    {
     "data": {
      "text/plain": [
       "715"
      ]
     },
     "execution_count": 12,
     "metadata": {},
     "output_type": "execute_result"
    }
   ],
   "source": [
    "c(4,13)"
   ]
  },
  {
   "attachments": {},
   "cell_type": "markdown",
   "metadata": {},
   "source": [
    "Теперь нам нужно найти общее число исходов $4$ из $52$ карт<br>\n",
    "\n",
    "$C_{52}^4=\\dfrac{52!}{4!\\cdot (52-4)!}=\\dfrac{52\\cdot 51\\cdot 50\\cdot 49\\cdot 48!}{24\\cdot 48!}=270725$"
   ]
  },
  {
   "cell_type": "code",
   "execution_count": 13,
   "metadata": {},
   "outputs": [
    {
     "data": {
      "text/plain": [
       "270725"
      ]
     },
     "execution_count": 13,
     "metadata": {},
     "output_type": "execute_result"
    }
   ],
   "source": [
    "c(4,52)"
   ]
  },
  {
   "attachments": {},
   "cell_type": "markdown",
   "metadata": {},
   "source": [
    "Найдем вероятность<br>\n",
    "\n",
    "$P=715/270725 \\approx 0.0026$"
   ]
  },
  {
   "cell_type": "code",
   "execution_count": 14,
   "metadata": {},
   "outputs": [
    {
     "data": {
      "text/plain": [
       "0.0026"
      ]
     },
     "execution_count": 14,
     "metadata": {},
     "output_type": "execute_result"
    }
   ],
   "source": [
    "round(715/270725, 4)"
   ]
  },
  {
   "attachments": {},
   "cell_type": "markdown",
   "metadata": {},
   "source": [
    "Есть другой вариант решения, через умножение вероятностей:\n",
    "\n",
    "$P = \\dfrac{13}{52} \\cdot \\dfrac{12}{51} \\cdot \\dfrac{11}{50} \\cdot \\dfrac{10}{49} \\approx 0.0026$"
   ]
  },
  {
   "cell_type": "code",
   "execution_count": 2,
   "metadata": {},
   "outputs": [
    {
     "data": {
      "text/plain": [
       "0.0026"
      ]
     },
     "execution_count": 2,
     "metadata": {},
     "output_type": "execute_result"
    }
   ],
   "source": [
    "round((13/52)*(12/51)*(11/50)*(10/49), 4)"
   ]
  },
  {
   "attachments": {},
   "cell_type": "markdown",
   "metadata": {},
   "source": [
    "### решим часть б:\n",
    "\n",
    "Для того, чтобы посчитать вероятность того, что среди $4$-х карт окажется хотя бы один туз, мы можем посчитать вероятность для каждого варианта с $1$, $2$, $3$, $4$ тузами и сложить их по формуле полной вероятности или посчитать вероятность непопадания тузов в исход и вычесть его из единицы.\n",
    "\n",
    "### Способ 1\n",
    "\n",
    "Количество возможных комбинация из $1$ туза\n",
    "\n",
    "$C_4^1=4$<br>\n",
    "Количество возможных комбинация из $3$ нетузов\n",
    "\n",
    "$C_{48}^3=\\frac{48!}{3!\\cdot 45!}=\\frac{45!\\cdot 46\\cdot 47 \\cdot 48}{6 \\cdot 45!}=8 \\cdot 46 \\cdot 47 = 17296$<br>\n",
    "\n",
    "Количество возможных комбинация из $2$ тузов\n",
    "\n",
    "$C_4^2=6$<br>\n",
    "Количество возможных комбинация из $2$ нетузов\n",
    "\n",
    "$C_{48}^2=\\frac{48!}{2\\cdot 46!}=\\frac{46!\\cdot 47 \\cdot 48}{2 \\cdot 46!}=24 \\cdot 47 = 1128$<br>\n",
    "\n",
    "Количество возможных комбинация из $3$ тузов\n",
    "\n",
    "$C_4^3=4$<br>\n",
    "Количество возможных комбинация из $1$ нетуза\n",
    "\n",
    "$C_{48}^1 = 48$<br>\n",
    "\n",
    "Количество возможных комбинация из 4 тузов $C_4^4=1$<br>\n",
    "\n",
    "Общее количество исходов  мы исчислили ранее $C_{52}^4 = 270725$\n",
    "\n",
    "Итого вероятность того, что среди 4-х карт окажется хотя бы один туз будет равна:\n",
    "\n",
    "$P(A)=\\frac{4\\cdot 17296 + 6 \\cdot 1128 + 4 \\cdot 48 + 1}{270725}=\\frac{76145}{270725}\\approx 0.2813$\n"
   ]
  },
  {
   "cell_type": "code",
   "execution_count": 38,
   "metadata": {},
   "outputs": [
    {
     "name": "stdout",
     "output_type": "stream",
     "text": [
      "4 17296 6 1128 4 48 1\n",
      "76145\n",
      "0.2813\n"
     ]
    }
   ],
   "source": [
    "print(c(1,4), c(3,48), c(2,4) , c(2,48), c(3,4) , c(1,48), c(4,4))\n",
    "print((c(1,4) * c(3,48)) + (c(2,4) * c(2,48)) + (c(3,4) * c(1,48)) + c(4,4))\n",
    "print(round(76145/270725, 4))"
   ]
  },
  {
   "attachments": {},
   "cell_type": "markdown",
   "metadata": {},
   "source": [
    "### Способ 2\n",
    "\n",
    "Количество возможных комбинация из $4$ нетузов\n",
    "\n",
    "$C_{48}^4=\\frac{48!}{4!\\cdot 44!}=\\frac{44!\\cdot 45\\cdot 46\\cdot 47 \\cdot 48}{24 \\cdot 44!}=2 \\cdot 47 \\cdot 46 \\cdot 45 = 194580$<br>\n",
    "\n",
    "Общее количество исходов  мы исчислили ранее $C_{52}^4 = 270725$\n",
    "\n",
    "Итого искомая вероятность равна:\n",
    "\n",
    "$\\bar P = \\frac{194580}{270725} \\approx 0.7187 $\n",
    "\n",
    "$P = 1 - \\bar P = 1 - 0.7187 \\approx 0.2813$\n",
    "\n",
    "\n"
   ]
  },
  {
   "cell_type": "code",
   "execution_count": 41,
   "metadata": {},
   "outputs": [
    {
     "name": "stdout",
     "output_type": "stream",
     "text": [
      "194580\n",
      "0.7187\n",
      "0.2813\n"
     ]
    }
   ],
   "source": [
    "print(c(4,48))\n",
    "print(round(194580/270725, 4))\n",
    "print(1 - 0.7187)"
   ]
  },
  {
   "attachments": {},
   "cell_type": "markdown",
   "metadata": {},
   "source": [
    "## Задание 2<br>\n",
    "На входной двери подъезда установлен кодовый замок, содержащий десять кнопок с цифрами от $0$ до $9$. Код содержит три цифры, которые нужно нажать одновременно. Какова вероятность того, что человек, не знающий код, откроет дверь с первой попытки?"
   ]
  },
  {
   "attachments": {},
   "cell_type": "markdown",
   "metadata": {},
   "source": [
    "### Решение\n",
    "\n",
    "В данном случае вероятность мы можем посчитать по формуле:\n",
    "\n",
    "$P=\\dfrac{m}{n}$,\n",
    "\n",
    "$m=1$, так как код только один, \n",
    "\n",
    "$n$ это общее количество сочетаний:\n",
    "\n",
    "$C_{10}^3=\\dfrac{10!}{3!\\cdot (10-3)!}=\\dfrac{10\\cdot 9\\cdot 8 \\cdot 7!}{2 \\cdot 3\\cdot 7!}= 10\\cdot 4\\cdot 3 = 120$\n",
    "\n",
    "$P=\\dfrac{m}{n}= \\dfrac{1}{120} \\approx 0.0083$"
   ]
  },
  {
   "cell_type": "code",
   "execution_count": 18,
   "metadata": {},
   "outputs": [
    {
     "data": {
      "text/plain": [
       "120"
      ]
     },
     "execution_count": 18,
     "metadata": {},
     "output_type": "execute_result"
    }
   ],
   "source": [
    "c(3,10)"
   ]
  },
  {
   "cell_type": "code",
   "execution_count": 20,
   "metadata": {},
   "outputs": [
    {
     "data": {
      "text/plain": [
       "0.0083"
      ]
     },
     "execution_count": 20,
     "metadata": {},
     "output_type": "execute_result"
    }
   ],
   "source": [
    "round(1/120,4)"
   ]
  },
  {
   "attachments": {},
   "cell_type": "markdown",
   "metadata": {},
   "source": [
    "Есть другой вариант\n",
    "\n",
    "$P = \\dfrac {3}{10} \\cdot \\dfrac {2}{9} \\cdot \\dfrac {1}{8} = \\dfrac{1}{120} \\approx 0.0083$"
   ]
  },
  {
   "attachments": {},
   "cell_type": "markdown",
   "metadata": {},
   "source": [
    "## Задание 3\n",
    "\n",
    "В ящике имеется $15$ деталей, из которых $9$ окрашены. Рабочий случайным образом извлекает $3$ детали.<br> \n",
    "Какова вероятность того, что все извлеченные детали окрашены?\n",
    "\n",
    "### Решение\n",
    "\n",
    "$C_9^3$ - количество благоприятных исходов\n",
    "\n",
    "$C_{15}^3$ - всего исходов\n",
    "\n",
    "$P(A)=\\dfrac{C_9^3}{C_{15}^3}=\\dfrac{\\dfrac{9!}{3!\\cdot 6!}}{\\dfrac{15!}{3! \\cdot 12!}}= \\dfrac{9! \\cdot 3! \\cdot 12!}{3! \\cdot 6! \\cdot 15!}= 12/65 \\approx 0.1846$"
   ]
  },
  {
   "cell_type": "code",
   "execution_count": 26,
   "metadata": {},
   "outputs": [
    {
     "name": "stdout",
     "output_type": "stream",
     "text": [
      "84\n",
      "455\n",
      "12/65\n",
      "0.1846\n"
     ]
    }
   ],
   "source": [
    "print(cf(3,9))\n",
    "print(cf(3,15))\n",
    "print(cf(3,9)/cf(3,15))\n",
    "print(round(float(c(3,9)/c(3,15)),4))"
   ]
  },
  {
   "attachments": {},
   "cell_type": "markdown",
   "metadata": {},
   "source": [
    "Есть другой вариант\n",
    "\n",
    "$P = \\dfrac {9}{15} \\cdot \\dfrac {8}{14} \\cdot \\dfrac {7}{13} = \\dfrac{12}{65} \\approx 0.1846$"
   ]
  },
  {
   "attachments": {},
   "cell_type": "markdown",
   "metadata": {},
   "source": [
    "## Задание 4\n",
    "\n",
    "В лотерее $100$ билетов. Из них $2$ выигрышных. Какова вероятность того, что $2$ приобретенных билета окажутся выигрышными?\n",
    "\n",
    "### Решение\n",
    "\n",
    "Удачный исход $C_2^2 = 1$\n",
    "\n",
    "Всего исходов $C_{100}^2=\\frac{100!}{2!\\cdot 98!}=\\frac{100\\cdot 99}{2}= 4950$\n",
    "\n",
    "Вероятность того, что $2$ приобретенных билета окажутся выигрышными равна\n",
    "\n",
    "$\\frac{1}{4950} \\approx 0.0002$"
   ]
  },
  {
   "cell_type": "code",
   "execution_count": 31,
   "metadata": {},
   "outputs": [
    {
     "name": "stdout",
     "output_type": "stream",
     "text": [
      "4950\n",
      "0.0002\n"
     ]
    }
   ],
   "source": [
    "print(c(2,100))\n",
    "print(round(1/c(2,100),4))\n"
   ]
  },
  {
   "attachments": {},
   "cell_type": "markdown",
   "metadata": {},
   "source": [
    "Есть другой вариант\n",
    "\n",
    "$P = \\dfrac {2}{100} \\cdot \\dfrac {1}{99} = \\dfrac{1}{99 * 50} \\approx 0.0002$"
   ]
  }
 ],
 "metadata": {
  "kernelspec": {
   "display_name": "Python 3",
   "language": "python",
   "name": "python3"
  },
  "language_info": {
   "codemirror_mode": {
    "name": "ipython",
    "version": 3
   },
   "file_extension": ".py",
   "mimetype": "text/x-python",
   "name": "python",
   "nbconvert_exporter": "python",
   "pygments_lexer": "ipython3",
   "version": "3.10.11"
  },
  "orig_nbformat": 4
 },
 "nbformat": 4,
 "nbformat_minor": 2
}
