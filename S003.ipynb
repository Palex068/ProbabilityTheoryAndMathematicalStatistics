{
 "cells": [
  {
   "cell_type": "code",
   "execution_count": 1,
   "metadata": {},
   "outputs": [],
   "source": [
    "import warnings\n",
    "import numpy as np\n",
    "import pandas as pd\n",
    "from matplotlib import pyplot as plt\n",
    "\n",
    "warnings.filterwarnings('ignore')"
   ]
  },
  {
   "cell_type": "code",
   "execution_count": 4,
   "metadata": {},
   "outputs": [
    {
     "data": {
      "text/html": [
       "<div>\n",
       "<style scoped>\n",
       "    .dataframe tbody tr th:only-of-type {\n",
       "        vertical-align: middle;\n",
       "    }\n",
       "\n",
       "    .dataframe tbody tr th {\n",
       "        vertical-align: top;\n",
       "    }\n",
       "\n",
       "    .dataframe thead th {\n",
       "        text-align: right;\n",
       "    }\n",
       "</style>\n",
       "<table border=\"1\" class=\"dataframe\">\n",
       "  <thead>\n",
       "    <tr style=\"text-align: right;\">\n",
       "      <th></th>\n",
       "      <th>year</th>\n",
       "      <th>country</th>\n",
       "      <th>no</th>\n",
       "      <th>name</th>\n",
       "      <th>position</th>\n",
       "      <th>side</th>\n",
       "      <th>height</th>\n",
       "      <th>weight</th>\n",
       "      <th>birth</th>\n",
       "      <th>club</th>\n",
       "      <th>age</th>\n",
       "      <th>cohort</th>\n",
       "      <th>bmi</th>\n",
       "    </tr>\n",
       "  </thead>\n",
       "  <tbody>\n",
       "    <tr>\n",
       "      <th>0</th>\n",
       "      <td>2001</td>\n",
       "      <td>RUS</td>\n",
       "      <td>10</td>\n",
       "      <td>tverdovsky oleg</td>\n",
       "      <td>D</td>\n",
       "      <td>L</td>\n",
       "      <td>185</td>\n",
       "      <td>84.0</td>\n",
       "      <td>1976-05-18</td>\n",
       "      <td>anaheim mighty ducks</td>\n",
       "      <td>24.952772</td>\n",
       "      <td>1976</td>\n",
       "      <td>24.543462</td>\n",
       "    </tr>\n",
       "    <tr>\n",
       "      <th>1</th>\n",
       "      <td>2001</td>\n",
       "      <td>RUS</td>\n",
       "      <td>2</td>\n",
       "      <td>vichnevsky vitali</td>\n",
       "      <td>D</td>\n",
       "      <td>L</td>\n",
       "      <td>188</td>\n",
       "      <td>86.0</td>\n",
       "      <td>1980-03-18</td>\n",
       "      <td>anaheim mighty ducks</td>\n",
       "      <td>21.119781</td>\n",
       "      <td>1980</td>\n",
       "      <td>24.332277</td>\n",
       "    </tr>\n",
       "    <tr>\n",
       "      <th>2</th>\n",
       "      <td>2001</td>\n",
       "      <td>RUS</td>\n",
       "      <td>26</td>\n",
       "      <td>petrochinin evgeni</td>\n",
       "      <td>D</td>\n",
       "      <td>L</td>\n",
       "      <td>182</td>\n",
       "      <td>95.0</td>\n",
       "      <td>1976-02-07</td>\n",
       "      <td>severstal cherepovetal</td>\n",
       "      <td>25.229295</td>\n",
       "      <td>1976</td>\n",
       "      <td>28.680111</td>\n",
       "    </tr>\n",
       "    <tr>\n",
       "      <th>3</th>\n",
       "      <td>2001</td>\n",
       "      <td>RUS</td>\n",
       "      <td>28</td>\n",
       "      <td>zhdan alexander</td>\n",
       "      <td>D</td>\n",
       "      <td>R</td>\n",
       "      <td>178</td>\n",
       "      <td>85.0</td>\n",
       "      <td>1971-08-28</td>\n",
       "      <td>ak bars kazan</td>\n",
       "      <td>29.675565</td>\n",
       "      <td>1971</td>\n",
       "      <td>26.827421</td>\n",
       "    </tr>\n",
       "    <tr>\n",
       "      <th>4</th>\n",
       "      <td>2001</td>\n",
       "      <td>RUS</td>\n",
       "      <td>32</td>\n",
       "      <td>orekhovsky oleg</td>\n",
       "      <td>D</td>\n",
       "      <td>R</td>\n",
       "      <td>175</td>\n",
       "      <td>88.0</td>\n",
       "      <td>1977-11-03</td>\n",
       "      <td>dynamo moscow</td>\n",
       "      <td>23.490760</td>\n",
       "      <td>1977</td>\n",
       "      <td>28.734694</td>\n",
       "    </tr>\n",
       "    <tr>\n",
       "      <th>...</th>\n",
       "      <td>...</td>\n",
       "      <td>...</td>\n",
       "      <td>...</td>\n",
       "      <td>...</td>\n",
       "      <td>...</td>\n",
       "      <td>...</td>\n",
       "      <td>...</td>\n",
       "      <td>...</td>\n",
       "      <td>...</td>\n",
       "      <td>...</td>\n",
       "      <td>...</td>\n",
       "      <td>...</td>\n",
       "      <td>...</td>\n",
       "    </tr>\n",
       "    <tr>\n",
       "      <th>6286</th>\n",
       "      <td>2016</td>\n",
       "      <td>USA</td>\n",
       "      <td>7</td>\n",
       "      <td>compher j.t.</td>\n",
       "      <td>F</td>\n",
       "      <td>R</td>\n",
       "      <td>180</td>\n",
       "      <td>87.0</td>\n",
       "      <td>1995-04-08</td>\n",
       "      <td>university of michigan</td>\n",
       "      <td>21.065024</td>\n",
       "      <td>1995</td>\n",
       "      <td>26.851852</td>\n",
       "    </tr>\n",
       "    <tr>\n",
       "      <th>6288</th>\n",
       "      <td>2016</td>\n",
       "      <td>USA</td>\n",
       "      <td>72</td>\n",
       "      <td>vatrano frank</td>\n",
       "      <td>F</td>\n",
       "      <td>L</td>\n",
       "      <td>178</td>\n",
       "      <td>98.0</td>\n",
       "      <td>1994-03-14</td>\n",
       "      <td>boston bruins</td>\n",
       "      <td>22.132786</td>\n",
       "      <td>1994</td>\n",
       "      <td>30.930438</td>\n",
       "    </tr>\n",
       "    <tr>\n",
       "      <th>6289</th>\n",
       "      <td>2016</td>\n",
       "      <td>USA</td>\n",
       "      <td>1</td>\n",
       "      <td>kinkaid keith</td>\n",
       "      <td>G</td>\n",
       "      <td>L</td>\n",
       "      <td>191</td>\n",
       "      <td>88.0</td>\n",
       "      <td>1989-07-04</td>\n",
       "      <td>new jersey devils</td>\n",
       "      <td>26.825462</td>\n",
       "      <td>1989</td>\n",
       "      <td>24.122146</td>\n",
       "    </tr>\n",
       "    <tr>\n",
       "      <th>6290</th>\n",
       "      <td>2016</td>\n",
       "      <td>USA</td>\n",
       "      <td>30</td>\n",
       "      <td>condon mike</td>\n",
       "      <td>G</td>\n",
       "      <td>L</td>\n",
       "      <td>188</td>\n",
       "      <td>89.0</td>\n",
       "      <td>1990-04-27</td>\n",
       "      <td>montreal canadiens</td>\n",
       "      <td>26.012320</td>\n",
       "      <td>1990</td>\n",
       "      <td>25.181077</td>\n",
       "    </tr>\n",
       "    <tr>\n",
       "      <th>6291</th>\n",
       "      <td>2016</td>\n",
       "      <td>USA</td>\n",
       "      <td>31</td>\n",
       "      <td>demko thatcher</td>\n",
       "      <td>G</td>\n",
       "      <td>L</td>\n",
       "      <td>193</td>\n",
       "      <td>95.0</td>\n",
       "      <td>1995-12-08</td>\n",
       "      <td>boston college</td>\n",
       "      <td>20.396988</td>\n",
       "      <td>1995</td>\n",
       "      <td>25.504040</td>\n",
       "    </tr>\n",
       "  </tbody>\n",
       "</table>\n",
       "<p>3294 rows × 13 columns</p>\n",
       "</div>"
      ],
      "text/plain": [
       "      year country  no                 name position side  height  weight  \\\n",
       "0     2001     RUS  10     tverdovsky oleg         D    L     185    84.0   \n",
       "1     2001     RUS   2   vichnevsky vitali         D    L     188    86.0   \n",
       "2     2001     RUS  26  petrochinin evgeni         D    L     182    95.0   \n",
       "3     2001     RUS  28     zhdan alexander         D    R     178    85.0   \n",
       "4     2001     RUS  32     orekhovsky oleg         D    R     175    88.0   \n",
       "...    ...     ...  ..                  ...      ...  ...     ...     ...   \n",
       "6286  2016     USA   7         compher j.t.        F    R     180    87.0   \n",
       "6288  2016     USA  72        vatrano frank        F    L     178    98.0   \n",
       "6289  2016     USA   1        kinkaid keith        G    L     191    88.0   \n",
       "6290  2016     USA  30          condon mike        G    L     188    89.0   \n",
       "6291  2016     USA  31       demko thatcher        G    L     193    95.0   \n",
       "\n",
       "          birth                     club        age  cohort        bmi  \n",
       "0    1976-05-18    anaheim mighty ducks   24.952772    1976  24.543462  \n",
       "1    1980-03-18    anaheim mighty ducks   21.119781    1980  24.332277  \n",
       "2    1976-02-07  severstal cherepovetal   25.229295    1976  28.680111  \n",
       "3    1971-08-28           ak bars kazan   29.675565    1971  26.827421  \n",
       "4    1977-11-03           dynamo moscow   23.490760    1977  28.734694  \n",
       "...         ...                      ...        ...     ...        ...  \n",
       "6286 1995-04-08   university of michigan  21.065024    1995  26.851852  \n",
       "6288 1994-03-14            boston bruins  22.132786    1994  30.930438  \n",
       "6289 1989-07-04        new jersey devils  26.825462    1989  24.122146  \n",
       "6290 1990-04-27       montreal canadiens  26.012320    1990  25.181077  \n",
       "6291 1995-12-08           boston college  20.396988    1995  25.504040  \n",
       "\n",
       "[3294 rows x 13 columns]"
      ]
     },
     "execution_count": 4,
     "metadata": {},
     "output_type": "execute_result"
    }
   ],
   "source": [
    "df = pd.read_csv(r'hockey_players.csv', encoding='cp1251',parse_dates=['birth'])\n",
    "df = df.drop_duplicates(['name', 'birth'])\n",
    "df"
   ]
  },
  {
   "cell_type": "code",
   "execution_count": 5,
   "metadata": {},
   "outputs": [
    {
     "data": {
      "text/plain": [
       "183.829386763813"
      ]
     },
     "execution_count": 5,
     "metadata": {},
     "output_type": "execute_result"
    }
   ],
   "source": [
    "df['height'].mean() # взяли столбец 'height' - рост и нашли по нему среднее значение (математическое ожидание)"
   ]
  },
  {
   "cell_type": "code",
   "execution_count": 6,
   "metadata": {},
   "outputs": [
    {
     "data": {
      "text/plain": [
       "29.894963668771"
      ]
     },
     "execution_count": 6,
     "metadata": {},
     "output_type": "execute_result"
    }
   ],
   "source": [
    "df['height'].var() # взяли столбец 'height' - рост и нашли по нему дисперсию по умолчанию несмещённая"
   ]
  },
  {
   "cell_type": "code",
   "execution_count": 7,
   "metadata": {},
   "outputs": [
    {
     "data": {
      "text/plain": [
       "29.885888087815086"
      ]
     },
     "execution_count": 7,
     "metadata": {},
     "output_type": "execute_result"
    }
   ],
   "source": [
    "np.var(df['height']) # дисперсия из numpy - по умолчанию смещённая"
   ]
  },
  {
   "cell_type": "code",
   "execution_count": 8,
   "metadata": {},
   "outputs": [
    {
     "name": "stdout",
     "output_type": "stream",
     "text": [
      "несмещённая:  29.894963668771\n",
      "смещённая:  29.885888087815086\n"
     ]
    }
   ],
   "source": [
    "print('несмещённая: ', df['height'].var(ddof=1)) # ddof - дельта степеней свободы\n",
    "print('смещённая: ', df['height'].var(ddof=0))"
   ]
  },
  {
   "cell_type": "code",
   "execution_count": 9,
   "metadata": {},
   "outputs": [
    {
     "data": {
      "text/plain": [
       "5.467628706191652"
      ]
     },
     "execution_count": 9,
     "metadata": {},
     "output_type": "execute_result"
    }
   ],
   "source": [
    "df['height'].std() # СКО - среднее квадратическое отклонение"
   ]
  },
  {
   "cell_type": "code",
   "execution_count": 10,
   "metadata": {},
   "outputs": [
    {
     "data": {
      "text/plain": [
       "0    180\n",
       "Name: height, dtype: int64"
      ]
     },
     "execution_count": 10,
     "metadata": {},
     "output_type": "execute_result"
    }
   ],
   "source": [
    "df['height'].mode() # мода"
   ]
  },
  {
   "cell_type": "code",
   "execution_count": 11,
   "metadata": {},
   "outputs": [
    {
     "data": {
      "text/plain": [
       "184.0"
      ]
     },
     "execution_count": 11,
     "metadata": {},
     "output_type": "execute_result"
    }
   ],
   "source": [
    "df['height'].median() # медиана"
   ]
  },
  {
   "cell_type": "code",
   "execution_count": 12,
   "metadata": {},
   "outputs": [
    {
     "data": {
      "text/plain": [
       "0.25    180.0\n",
       "Name: height, dtype: float64"
      ]
     },
     "execution_count": 12,
     "metadata": {},
     "output_type": "execute_result"
    }
   ],
   "source": [
    "df['height'].quantile([0.25])"
   ]
  },
  {
   "cell_type": "code",
   "execution_count": 13,
   "metadata": {},
   "outputs": [
    {
     "data": {
      "text/plain": [
       "0.25    180.0\n",
       "0.50    184.0\n",
       "0.75    188.0\n",
       "Name: height, dtype: float64"
      ]
     },
     "execution_count": 13,
     "metadata": {},
     "output_type": "execute_result"
    }
   ],
   "source": [
    "df['height'].quantile([0.25, 0.5, 0.75])"
   ]
  },
  {
   "cell_type": "code",
   "execution_count": 14,
   "metadata": {},
   "outputs": [
    {
     "data": {
      "text/plain": [
       "count    3294.000000\n",
       "mean      183.829387\n",
       "std         5.467629\n",
       "min       165.000000\n",
       "25%       180.000000\n",
       "50%       184.000000\n",
       "75%       188.000000\n",
       "max       205.000000\n",
       "Name: height, dtype: float64"
      ]
     },
     "execution_count": 14,
     "metadata": {},
     "output_type": "execute_result"
    }
   ],
   "source": [
    "df['height'].describe()"
   ]
  },
  {
   "cell_type": "code",
   "execution_count": 15,
   "metadata": {},
   "outputs": [
    {
     "data": {
      "text/plain": [
       "<AxesSubplot: >"
      ]
     },
     "execution_count": 15,
     "metadata": {},
     "output_type": "execute_result"
    },
    {
     "data": {
      "image/png": "[encoded data removed]",
      "text/plain": [
       "<Figure size 640x480 with 1 Axes>"
      ]
     },
     "metadata": {},
     "output_type": "display_data"
    }
   ],
   "source": [
    "df['height'].hist(bins=15)"
   ]
  },
  {
   "cell_type": "code",
   "execution_count": 16,
   "metadata": {},
   "outputs": [
    {
     "data": {
      "text/plain": [
       "<AxesSubplot: >"
      ]
     },
     "execution_count": 16,
     "metadata": {},
     "output_type": "execute_result"
    },
    {
     "data": {
      "image/png": "[encoded data removed]",
      "text/plain": [
       "<Figure size 640x480 with 1 Axes>"
      ]
     },
     "metadata": {},
     "output_type": "display_data"
    }
   ],
   "source": [
    "df[['height']].boxplot()"
   ]
  },
  {
   "attachments": {},
   "cell_type": "markdown",
   "metadata": {},
   "source": [
    "# Задачи на повторение"
   ]
  },
  {
   "attachments": {},
   "cell_type": "markdown",
   "metadata": {},
   "source": [
    "## Задача 1\n",
    "Являются ли несовместными следующие события: <br>\n",
    "опыт – подбрасывание симметричной монеты.\n",
    "\n",
    "+ событие А – появление герба, <br>\n",
    "+ событие В – появление решки. \n",
    "\n",
    "Обоснуйте ответ.\n",
    "\n",
    "## Ответ\n",
    "\n",
    "События несовместные, так как одновременно монета не может упасть на орел или решку"
   ]
  },
  {
   "attachments": {},
   "cell_type": "markdown",
   "metadata": {},
   "source": [
    "## Задача 2\n",
    "\n",
    "Являются ли равновозможными следующие события: \n",
    "+ опыт – подбрасывание симметричной монеты; \n",
    "    + событие А – появление герба, \n",
    "    + событие В – появление решки\n",
    "+ опыт – выстрел по мишени; \n",
    "    + событие А – попадание,\n",
    "    + событие В - промах\n",
    "\n",
    "## Ответ\n",
    "\n",
    "Подбрасывание симметричной монеты - равновозможное событие, а выстрел по мишени зависит от многих факторов и вероятность попасть или промахнуться не равны поэтому события не равновозможные."
   ]
  },
  {
   "attachments": {},
   "cell_type": "markdown",
   "metadata": {},
   "source": [
    "## Задача 3\n",
    "\n",
    "Партия электрических лампочек на $25\\%$ изготовлена $1-м$ заводом, на $35\\%$ - $2-м$ заводом, на $40\\%$ - третьим. \n",
    "\n",
    "Вероятность выпуска бракованных лампочек соответственно равны: $q_1 = 0.03, q_2 = 0.02, q_3 = 0.01.$ \n",
    "\n",
    "Какова вероятность того, что наудачу взятая лампочка окажется бракованной?\n",
    "\n",
    "## Решение\n",
    "\n",
    "Применим формулу __полной вероятности__\n",
    "\n",
    "$P(A) = P(B_1) \\cdot P(A│B_1) + P(B_2) \\cdot P(A│B_2) + P(B_3) \\cdot P(A│B_3)$\n",
    "\n",
    "$P(A) = 0.25 \\cdot 0.03 + 0.35 \\cdot 0.02 + 0.4 \\cdot 0.01 = 0.0075 + 0.007 + 0.004 = 0.0185$ \n"
   ]
  },
  {
   "cell_type": "code",
   "execution_count": 20,
   "metadata": {},
   "outputs": [
    {
     "name": "stdout",
     "output_type": "stream",
     "text": [
      "0.0075\n",
      "0.007\n",
      "0.004\n",
      "0.0185\n"
     ]
    }
   ],
   "source": [
    "print(round(0.25 * 0.03, 4))\n",
    "print(round(0.35 * 0.02, 4))\n",
    "print(round(0.4 * 0.01, 4))\n",
    "print(round(0.25 * 0.03 + 0.35 * 0.02 + 0.4 * 0.01, 4))"
   ]
  },
  {
   "attachments": {},
   "cell_type": "markdown",
   "metadata": {},
   "source": [
    "## Задача 4 \n",
    "В урне $a$ красных и $b$ голубых шаров, одинаковых по размеру и весу. \n",
    "\n",
    "Чему равна вероятность того, что наудачу извлеченный шар из этой урны окажется голубым? \n",
    "\n",
    "Записать ответ в виде буквенного выражения.\n",
    "\n",
    "## Решение\n",
    "\n",
    "Применим формулу вероятности:\n",
    "\n",
    "$P(A)=\\dfrac{m}{n}$<br>\n",
    "\n",
    "где $m$ - число благоприятных исходов, а <br>\n",
    "$n$ - всего исходов\n",
    "\n",
    "$P(A)=\\dfrac{m}{n}=\\dfrac{b}{a+b}$<br>"
   ]
  },
  {
   "attachments": {},
   "cell_type": "markdown",
   "metadata": {},
   "source": [
    "## Задача 5\n",
    "Когда используется формула Пуассона, а когда формула Бернулли?\n",
    "\n",
    "## Ответ\n",
    "\n",
    "Формула Пуассона используется в частных случаях, когда вероятность наступления события очень маленькая $(< 0.1)$, а число испытаний очень большое.\n",
    "1. ДСВ - дискретные случайные величины\n",
    "2. Испытания независимые с одинаковой вероятностью\n"
   ]
  },
  {
   "attachments": {},
   "cell_type": "markdown",
   "metadata": {},
   "source": [
    "## Самостоятельная работа"
   ]
  },
  {
   "attachments": {},
   "cell_type": "markdown",
   "metadata": {},
   "source": [
    "## Задача 1. \n",
    "Являются ли равновозможными следующие события: <br>\n",
    "опыт – подбрасывание погнутой монеты. \n",
    "+ Событие А –появление герба, \n",
    "+ событие В – появление цифры. \n",
    "\n",
    "## Ответ\n",
    "\n",
    "Так как монета не симметричная и одно из событий будет наступать чаще, то события не равновозможные."
   ]
  },
  {
   "attachments": {},
   "cell_type": "markdown",
   "metadata": {},
   "source": [
    "## Задача2: \n",
    "\n",
    "Партия деталей изготовлена тремя рабочими, причем:\n",
    "+ первый изготовил 35% всех деталей, \n",
    "+ второй – 40% всех деталей,\n",
    "+ третий – всю остальную продукцию. \n",
    "\n",
    "Брак в их продукции составляет:\n",
    "+ у первого -2%,\n",
    "+ у второго - 3%,\n",
    "+ у третьего – 4%. \n",
    "\n",
    "Случайно выбранная для контроля деталь оказалась бракованной. \n",
    "\n",
    "Найти вероятность того, что она изготовлена третьим рабочим. \n",
    "\n",
    "## Решение\n",
    "\n",
    "Здесь надо применить формулу Байеса:\n",
    "\n",
    "$P(B│A)=\\dfrac{P(A│B)*P(B)}{P(A)}$\n",
    "\n",
    "Здесь $P(B)$ – априорная вероятность (определяется до испытания)<br>\n",
    "$P(B|A)$ -  апостериорная вероятность\n",
    "\n",
    "$P(B_3│A)=\\dfrac{P(A│B_3)*P(B_3)}{P(A)}$<br>\n",
    "\n",
    "Помним, что $А$ – достать бракованную деталь, $В$ - то, что деталь изготовлена третьим рабочим. <br>\n",
    "+ Вероятность изготовления брака у третьего рабочего $0.04$,\n",
    "+ вероятность, что эту деталь изготовил третий рабочий $(1 - 0.35 - 0.4 = 0.25)$,\n",
    "+ ну и полную вероятность события посчитаем по формуле полной вероятности:<br>\n",
    "\n",
    "$P(A) = P(B_1) \\cdot P(A│B_1) + P(B_2) \\cdot P(A│B_2) + P(B_3) \\cdot P(A│B_3)$\n",
    "\n",
    "$P(A) = 0.35 \\cdot 0.02 + 0.4 \\cdot 0.03 + 0.25 \\cdot 0.04 = \n",
    "0.007 + 0.012 + 0.01 = 0.029$\n",
    "\n",
    "$P (B_3│A)=\\dfrac{P(A│B_3)*P(B_3)}{P(A)}=\\dfrac{0.04 * 0.25}{0.029} \\approx 0.3448$\n"
   ]
  },
  {
   "cell_type": "code",
   "execution_count": 27,
   "metadata": {},
   "outputs": [
    {
     "name": "stdout",
     "output_type": "stream",
     "text": [
      "0.007\n",
      "0.012\n",
      "0.01\n",
      "0.029\n",
      "0.007 + 0.012 + 0.01 = 0.029\n",
      "0.3448\n"
     ]
    }
   ],
   "source": [
    "print(round(0.35 * 0.02, 4))\n",
    "print(round(0.4 * 0.03, 4))\n",
    "print(round(0.25 * 0.04, 4))\n",
    "print(round(0.35 * 0.02 + 0.4 * 0.03 + 0.25 * 0.04, 4))\n",
    "\n",
    "print(f\"{round(0.35 * 0.02, 4)} + \\\n",
    "{round(0.4 * 0.03, 4)} + \\\n",
    "{round(0.25 * 0.04, 4)} = \\\n",
    "{round(0.35 * 0.02 + 0.4 * 0.03 + 0.25 * 0.04, 4)}\")\n",
    "\n",
    "print(round(0.04 * 0.25/(0.35 * 0.02 + 0.4 * 0.03 + 0.25 * 0.04), 4))"
   ]
  },
  {
   "attachments": {},
   "cell_type": "markdown",
   "metadata": {},
   "source": [
    "## Задача 4\n",
    "\n",
    "В ящике $15$ шаров, из которых $5$ голубых и $10$ красных. \n",
    "\n",
    "Из ящика последовательно вынимают $2$ шара; <br>\n",
    "первый шар в ящик не возвращают.\n",
    "\n",
    "Найти вероятность, что\n",
    "+ первый вытащенный шар - красный , а\n",
    "+ второй – голубой. \n",
    "\n",
    "## Решение\n",
    "\n",
    "Действия происходят последовательно, значит здесь будет умножение вероятностей:\n",
    "\n",
    "$P = \\dfrac{10}{15} \\cdot \\dfrac{5}{14} = \\dfrac{10 * 5}{15 * 14} = \\dfrac{5}{21} \\approx 0.2381 $\n"
   ]
  },
  {
   "cell_type": "code",
   "execution_count": 32,
   "metadata": {},
   "outputs": [
    {
     "data": {
      "text/plain": [
       "0.2381"
      ]
     },
     "execution_count": 32,
     "metadata": {},
     "output_type": "execute_result"
    }
   ],
   "source": [
    "round((10*5)/(15*14),4)"
   ]
  },
  {
   "cell_type": "code",
   "execution_count": 33,
   "metadata": {},
   "outputs": [
    {
     "data": {
      "text/plain": [
       "0.23809523809523808"
      ]
     },
     "execution_count": 33,
     "metadata": {},
     "output_type": "execute_result"
    }
   ],
   "source": [
    "5/21"
   ]
  },
  {
   "attachments": {},
   "cell_type": "markdown",
   "metadata": {},
   "source": [
    "## Задача 4\n",
    "Известно, что в принятой для сборки партии из $1000$ деталей имеются $4$ дефектных. \n",
    "\n",
    "Найдите вероятность, что среди $50$ случайно взятых деталей нет дефектных.\n",
    "\n",
    "## Решение\n",
    "\n",
    "Формула Пуассона\n",
    "\n",
    ">$P_m ≈ \\dfrac{λ^m}{m!}\\cdot e^{-λ}$\n",
    ">\n",
    ">$λ = n \\cdot p$<br>\n",
    ">\n",
    ">$λ-$ средняя интенсивность наступления события на некоторую единицу измерения<br>\n",
    ">$n-$ число испытаний<br>\n",
    ">$p-$ вероятность наступления события A в независимых испытаниях,<br>\n",
    ">$m-$ число наступления события<br>\n",
    "\n",
    "В данном случае \n",
    "\n",
    "$λ = n \\cdot p = 50 \\cdot 0.004 = 0.2$<br>\n",
    "\n",
    "$P(X=o) ≈ \\dfrac{λ^m}{m!}\\cdot e^{-λ} ≈ \\dfrac{0.2^{0}}{0!}\\cdot e^{-0.2} \\approx 0.8187$\n",
    "\n",
    "Для вычисления ответа используем функцию"
   ]
  },
  {
   "cell_type": "code",
   "execution_count": 37,
   "metadata": {},
   "outputs": [],
   "source": [
    "from math import factorial as fc\n",
    "from fractions import Fraction"
   ]
  },
  {
   "cell_type": "code",
   "execution_count": 38,
   "metadata": {},
   "outputs": [],
   "source": [
    "def c (k,n): # сочетание\n",
    "    return (fc(n) // (fc(k)*fc(n-k)))\n",
    "\n",
    "def cf (k,n): # сочетание с неправильной дробью\n",
    "    return Fraction(fc(n) // (fc(k)*fc(n-k)))\n",
    "\n",
    "def a (k,n): # размещение\n",
    "    return (fc(n) // fc(n-k))\n",
    "\n",
    "def af (k,n): # размещение с неправильной дробью\n",
    "    return Fraction(fc(n) // fc(n-k))\n",
    "\n",
    "def p (n): # перестановка\n",
    "    return fc(n)"
   ]
  },
  {
   "cell_type": "code",
   "execution_count": 39,
   "metadata": {},
   "outputs": [],
   "source": [
    "def bernoulli(n, k, p):  # формула Бернулли\n",
    "    \n",
    "    # k - число наступления события\n",
    "    # n - число испытаний\n",
    "    # p - вероятность наступления события A в независимых испытаниях,\n",
    "    # q=1–p - Противоположная вероятность\n",
    "    \n",
    "    return cf(k,n)*p**k*(1-p)**(n-k)"
   ]
  },
  {
   "cell_type": "code",
   "execution_count": 40,
   "metadata": {},
   "outputs": [],
   "source": [
    "import math\n",
    "def poisson (n, m, p): # формула Пуассона\n",
    "    λ = n*p\n",
    "    # λ - средняя интенсивность наступления события на некоторую единицу измерения\n",
    "    # λ = n*p\n",
    "    # n - число испытаний\n",
    "    # p - вероятность наступления события A в независимых испытаниях,\n",
    "    # m - число наступления события\n",
    "        \n",
    "    return (λ**m/fc(m))*math.e**(-λ)"
   ]
  },
  {
   "cell_type": "code",
   "execution_count": 50,
   "metadata": {},
   "outputs": [
    {
     "data": {
      "text/plain": [
       "0.8187"
      ]
     },
     "execution_count": 50,
     "metadata": {},
     "output_type": "execute_result"
    },
    {
     "ename": "",
     "evalue": "",
     "output_type": "error",
     "traceback": [
      "\u001b[1;31mПри выполнении кода в текущей ячейке или предыдущей ячейке ядро аварийно завершило работу. Проверьте код в ячейках, чтобы определить возможную причину сбоя. Щелкните <a href=\"https://aka.ms/vscodeJupyterKernelCrash\">здесь</a> для получения дополнительных сведений. Подробнее см. в <a href='command:jupyter.viewOutput'>журнале Jupyter</a>."
     ]
    }
   ],
   "source": [
    "round(poisson(50, 0, 0.004), 4)"
   ]
  }
 ],
 "metadata": {
  "kernelspec": {
   "display_name": "Python 3",
   "language": "python",
   "name": "python3"
  },
  "language_info": {
   "codemirror_mode": {
    "name": "ipython",
    "version": 3
   },
   "file_extension": ".py",
   "mimetype": "text/x-python",
   "name": "python",
   "nbconvert_exporter": "python",
   "pygments_lexer": "ipython3",
   "version": "3.10.11"
  },
  "orig_nbformat": 4
 },
 "nbformat": 4,
 "nbformat_minor": 2
}
