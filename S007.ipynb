{
 "cells": [
  {
   "attachments": {},
   "cell_type": "markdown",
   "metadata": {},
   "source": [
    "## Задача $1$"
   ]
  },
  {
   "cell_type": "code",
   "execution_count": 5,
   "metadata": {},
   "outputs": [],
   "source": [
    "from scipy import stats\n",
    "import numpy as np"
   ]
  },
  {
   "cell_type": "code",
   "execution_count": 9,
   "metadata": {},
   "outputs": [
    {
     "data": {
      "text/plain": [
       "MannwhitneyuResult(statistic=3.0, pvalue=0.4)"
      ]
     },
     "execution_count": 9,
     "metadata": {},
     "output_type": "execute_result"
    }
   ],
   "source": [
    "x = np.array([1000, 1380, 1200])\n",
    "y = np.array([1400, 1600, 1180, 1220])\n",
    "\n",
    "stats.mannwhitneyu(x, y)"
   ]
  },
  {
   "attachments": {},
   "cell_type": "markdown",
   "metadata": {},
   "source": [
    "## Задача $2$\n",
    "\n",
    "Средние расходы на обследование одного больного до ознакомления с расходами коллег и после:\n",
    "\n",
    "Произошли ли изменения?"
   ]
  },
  {
   "cell_type": "code",
   "execution_count": 6,
   "metadata": {},
   "outputs": [],
   "source": [
    "X= np.array([20,17, 14, 42, 50, 62, 8, 49, 81, 54, 48, 55, 56])\n",
    "Y= np.array ([20, 26, 1, 24, 1, 47, 15, 7, 65, 9, 21, 36, 30])"
   ]
  },
  {
   "cell_type": "code",
   "execution_count": 7,
   "metadata": {},
   "outputs": [
    {
     "name": "stderr",
     "output_type": "stream",
     "text": [
      "C:\\Users\\Palex\\AppData\\Local\\Packages\\PythonSoftwareFoundation.Python.3.10_qbz5n2kfra8p0\\LocalCache\\local-packages\\Python310\\site-packages\\scipy\\stats\\_morestats.py:3414: UserWarning: Exact p-value calculation does not work if there are zeros. Switching to normal approximation.\n",
      "  warnings.warn(\"Exact p-value calculation does not work if there are \"\n"
     ]
    },
    {
     "data": {
      "text/plain": [
       "WilcoxonResult(statistic=3.0, pvalue=0.004741768038406971)"
      ]
     },
     "execution_count": 7,
     "metadata": {},
     "output_type": "execute_result"
    }
   ],
   "source": [
    "stats.wilcoxon(X,Y)"
   ]
  },
  {
   "attachments": {},
   "cell_type": "markdown",
   "metadata": {},
   "source": [
    "$\\alpha = 0.05$\n",
    "\n",
    "$pvalue < \\alpha =>$ \n",
    "\n",
    "Нулевая гипотеза, о равенстве отвергается "
   ]
  },
  {
   "attachments": {},
   "cell_type": "markdown",
   "metadata": {},
   "source": [
    "Средние расходы на лечение одного больного до ознакомления с расходами коллег и после:\n",
    "\n",
    "Произошли ли изменения на расходы и лечение?"
   ]
  },
  {
   "cell_type": "code",
   "execution_count": 10,
   "metadata": {},
   "outputs": [],
   "source": [
    "X= np.array([ 32, 41, 51, 29, 76, 47, 60, 58, 40, 64, 73, 66, 73])\n",
    "Y= np.array ([42, 90, 71, 47, 56, 43, 137, 63, 28, 60, 87, 69, 50])"
   ]
  },
  {
   "cell_type": "code",
   "execution_count": 11,
   "metadata": {},
   "outputs": [
    {
     "data": {
      "text/plain": [
       "WilcoxonResult(statistic=31.5, pvalue=0.339599609375)"
      ]
     },
     "execution_count": 11,
     "metadata": {},
     "output_type": "execute_result"
    }
   ],
   "source": [
    "stats.wilcoxon(X,Y)"
   ]
  },
  {
   "attachments": {},
   "cell_type": "markdown",
   "metadata": {},
   "source": [
    "$pvalue > \\alpha =>$\n",
    "\n",
    "Нулевая гипотеза о равенстве не отвергается"
   ]
  },
  {
   "attachments": {},
   "cell_type": "markdown",
   "metadata": {},
   "source": [
    "## Задача $4$ \n",
    "\n",
    "При исследовании препарата для снижения кровяного давления у больных $3$ раза измерялся сердечный выброс. \n",
    "\n",
    "Менялся ли сердечный выброс?\n",
    "\n",
    "Найти критерий вручную, проверьте значение функцией и интерпретируйте результат с использованием p-value"
   ]
  },
  {
   "cell_type": "code",
   "execution_count": 13,
   "metadata": {},
   "outputs": [],
   "source": [
    "A = np.array([3.5, 3.3, 4.9, 3.6])\n",
    "B = np.array([8.6, 5.4, 8.8, 5.6])\n",
    "C = np.array([5.1, 8.6, 7.7, 5.0])"
   ]
  },
  {
   "cell_type": "code",
   "execution_count": 14,
   "metadata": {},
   "outputs": [
    {
     "data": {
      "text/plain": [
       "FriedmanchisquareResult(statistic=6.5, pvalue=0.03877420783172202)"
      ]
     },
     "execution_count": 14,
     "metadata": {},
     "output_type": "execute_result"
    }
   ],
   "source": [
    "stats.friedmanchisquare(A, B, C)"
   ]
  },
  {
   "attachments": {},
   "cell_type": "markdown",
   "metadata": {},
   "source": [
    "### Задача $5$\n",
    "\n",
    "Даны значения проницаемости сосудов сетчатки:\n",
    "+ gr 1 (здоровые пациенты),\n",
    "+ gr 2 ( поражение в области центральной ямки),\n",
    "+ gr 3 (в области центральной ямки и на периферии).\n",
    "\n",
    "Сравнить данные, относящиеся к разным видам поражения."
   ]
  },
  {
   "cell_type": "code",
   "execution_count": 17,
   "metadata": {},
   "outputs": [
    {
     "data": {
      "text/plain": [
       "KruskalResult(statistic=12.02000000000001, pvalue=0.002454088180413905)"
      ]
     },
     "execution_count": 17,
     "metadata": {},
     "output_type": "execute_result"
    }
   ],
   "source": [
    "gr1 =([0.5, 0.7, 1, 1.2, 1.4])\n",
    "gr2 = ([1.3, 1.45, 1.6, 1.7, 1.8])\n",
    "gr3 = ([6.2, 12.6, 13.2, 14.1, 14.2])\n",
    "\n",
    "stats.kruskal(gr1, gr2, gr3)"
   ]
  },
  {
   "cell_type": "markdown",
   "metadata": {},
   "source": [
    "pvalue существенно меньше $\\alpha$ поэтому группы разные"
   ]
  }
 ],
 "metadata": {
  "kernelspec": {
   "display_name": "Python 3",
   "language": "python",
   "name": "python3"
  },
  "language_info": {
   "codemirror_mode": {
    "name": "ipython",
    "version": 3
   },
   "file_extension": ".py",
   "mimetype": "text/x-python",
   "name": "python",
   "nbconvert_exporter": "python",
   "pygments_lexer": "ipython3",
   "version": "3.10.11"
  },
  "orig_nbformat": 4
 },
 "nbformat": 4,
 "nbformat_minor": 2
}
