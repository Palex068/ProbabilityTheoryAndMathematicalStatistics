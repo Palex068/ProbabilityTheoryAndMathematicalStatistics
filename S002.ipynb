{
 "cells": [
  {
   "attachments": {},
   "cell_type": "markdown",
   "metadata": {},
   "source": [
    "## Домашняя работа 2 семинар"
   ]
  },
  {
   "cell_type": "code",
   "execution_count": 1,
   "metadata": {},
   "outputs": [],
   "source": [
    "import numpy as np\n",
    "from math import factorial as fc\n",
    "from fractions import Fraction"
   ]
  },
  {
   "cell_type": "code",
   "execution_count": 2,
   "metadata": {},
   "outputs": [],
   "source": [
    "def c (k,n): # сочетание\n",
    "    return (fc(n) // (fc(k)*fc(n-k)))\n",
    "\n",
    "def cf (k,n): # сочетание с неправильной дробью\n",
    "    return Fraction(fc(n) // (fc(k)*fc(n-k)))\n",
    "\n",
    "def a (k,n): # размещение\n",
    "    return (fc(n) // fc(n-k))\n",
    "\n",
    "def af (k,n): # размещение с неправильной дробью\n",
    "    return Fraction(fc(n) // fc(n-k))\n",
    "\n",
    "def p (n): # перестановка\n",
    "    return fc(n)"
   ]
  },
  {
   "cell_type": "code",
   "execution_count": 5,
   "metadata": {},
   "outputs": [],
   "source": [
    "def bernoulli(n, k, p):  # формула Бернулли\n",
    "    \n",
    "    # k - число наступления события\n",
    "    # n - число испытаний\n",
    "    # p - вероятность наступления события A в независимых испытаниях,\n",
    "    # q=1–p - Противоположная вероятность\n",
    "    \n",
    "    return cf(k,n)*p**k*(1-p)**(n-k)"
   ]
  },
  {
   "cell_type": "code",
   "execution_count": 14,
   "metadata": {},
   "outputs": [],
   "source": [
    "import math\n",
    "def poisson (n, m, p): # формула Пуассона\n",
    "    λ = n*p\n",
    "    # λ - средняя интенсивность наступления события на некоторую единицу измерения\n",
    "    # λ = n*p\n",
    "    # n - число испытаний\n",
    "    # p - вероятность наступления события A в независимых испытаниях,\n",
    "    # m - число наступления события\n",
    "        \n",
    "    return (λ**m/fc(m))*math.e**(-λ)"
   ]
  },
  {
   "cell_type": "markdown",
   "metadata": {},
   "source": []
  },
  {
   "attachments": {},
   "cell_type": "markdown",
   "metadata": {},
   "source": [
    "## ДЗ\n",
    "\n",
    "1. Вероятность того, что стрелок попадет в мишень, выстрелив один раз, равна 0.8. Стрелок выстрелил 100 раз. Найдите вероятность того, что стрелок попадет в цель ровно 85 раз.\n"
   ]
  },
  {
   "attachments": {},
   "cell_type": "markdown",
   "metadata": {},
   "source": [
    "### Решение\n",
    "\n",
    "Используем формулу Бернулли\n",
    "\n",
    "$P(X=k) = C_n^k \\cdot p^k \\cdot q^{n-k}$\n",
    "\n",
    "В данном случае:\n",
    "\n",
    "$p = 0.8$<br>\n",
    "$n = 100$<br>\n",
    "$k = 85$<br>\n",
    "\n",
    "$P(X=85) = C_{100}^{85} \\cdot 0.8^{85} \\cdot 0.2^{15} = \\frac {100!}{85! \\cdot 15!}\\cdot 0.8^{85} \\cdot 0.2^{15} \\approx 0.0481$\n",
    "\n",
    "Для вычисления ответа используем функцию"
   ]
  },
  {
   "cell_type": "code",
   "execution_count": 7,
   "metadata": {},
   "outputs": [
    {
     "data": {
      "text/plain": [
       "0.0481"
      ]
     },
     "execution_count": 7,
     "metadata": {},
     "output_type": "execute_result"
    }
   ],
   "source": [
    "round(bernoulli(100, 85, 0.8), 4)"
   ]
  },
  {
   "attachments": {},
   "cell_type": "markdown",
   "metadata": {},
   "source": [
    "\n",
    "2. Вероятность того, что лампочка перегорит в течение первого дня эксплуатации, равна 0.0004. В жилом комплексе после ремонта в один день включили 5000 новых лампочек. <br>\n",
    "    a. Какова вероятность, что ни одна из них не перегорит в первый день? <br>\n",
    "    b. Какова вероятность, что перегорят ровно две?\n"
   ]
  },
  {
   "attachments": {},
   "cell_type": "markdown",
   "metadata": {},
   "source": [
    "## Решение\n",
    "\n",
    "Попробуем решить эту задачу двумя способами:<br>\n",
    "\n",
    "### 1. Используя формулу Бернулли\n",
    "\n",
    ">$P(X=k) = C_n^k \\cdot p^k \\cdot q^{n-k}$\n",
    ">\n",
    ">$k$ - число наступления события (дискретная величина из отрезка $[0, n]$)<br>\n",
    ">$n$ -  число испытаний <br>\n",
    ">$p$ - вероятность наступления события $A$ в  независимых испытаниях, <br>\n",
    ">$q = 1 – p$ - Противоположная вероятность\n",
    "\n",
    "### a. Какова вероятность, что ни одна из них не перегорит в первый день? <br>\n",
    "\n",
    "В данном случае:\n",
    "\n",
    "$p = 0.0004$<br>\n",
    "$n = 5000$<br>\n",
    "$k = 0$<br>\n",
    "\n",
    "$P(X=1) = C_{5000}^{0} \\cdot 0.0004^{0} \\cdot 0.9996^{5000} = 1 \\cdot 0.0004^{0} \\cdot 0.0004^{5000} \\approx 0.1353$\n",
    "\n",
    "### b. Какова вероятность, что перегорят ровно две?\n",
    "\n",
    "В этом случае:\n",
    "\n",
    "$p = 0.0004$<br>\n",
    "$n = 5000$<br>\n",
    "$k = 2$<br>\n",
    "\n",
    "$P(X=1) = C_{5000}^{2} \\cdot 0.0004^{2} \\cdot 0.9996^{4998} = 12497500 \\cdot 0.0004^{2} \\cdot 0.0004^{4998} \\approx 0.2707$\n",
    "\n",
    "Для вычисления ответа используем функцию"
   ]
  },
  {
   "cell_type": "code",
   "execution_count": 18,
   "metadata": {},
   "outputs": [
    {
     "name": "stdout",
     "output_type": "stream",
     "text": [
      "0.1353\n",
      "12497500\n",
      "0.2707\n"
     ]
    }
   ],
   "source": [
    "print(round(bernoulli(5000, 0, 0.0004), 4))\n",
    "print(cf(2,5000))\n",
    "print(round(bernoulli(5000, 2, 0.0004), 4))"
   ]
  },
  {
   "attachments": {},
   "cell_type": "markdown",
   "metadata": {},
   "source": [
    "### 2. Используя формулу Пуассона\n",
    "\n",
    ">$P_m ≈ \\dfrac{λ^m}{m!}\\cdot e^{-λ}$\n",
    ">\n",
    ">$λ = n \\cdot p$<br>\n",
    ">\n",
    ">$λ-$ средняя интенсивность наступления события на некоторую единицу измерения<br>\n",
    ">$n-$ число испытаний<br>\n",
    ">$p-$ вероятность наступления события A в независимых испытаниях,<br>\n",
    ">$m-$ число наступления события<br>\n",
    "\n",
    "### a. Какова вероятность, что ни одна из них не перегорит в первый день? <br>\n",
    "\n",
    "$λ = 5000 \\cdot 0.0004 = 2$<br>\n",
    "$P_0 ≈ \\dfrac{2^0}{0!}\\cdot e^{-2} \\approx 0.1353$\n",
    "\n",
    "### b. Какова вероятность, что перегорят ровно две?\n",
    "\n",
    "$P_2 ≈ \\dfrac{2^2}{2!}\\cdot e^{-2} \\approx 0.2707$"
   ]
  },
  {
   "cell_type": "code",
   "execution_count": 20,
   "metadata": {},
   "outputs": [
    {
     "name": "stdout",
     "output_type": "stream",
     "text": [
      "0.1353\n",
      "0.2707\n"
     ]
    }
   ],
   "source": [
    "print(round(poisson(5000, 0, 0.0004),4))\n",
    "print(round(poisson(5000, 2, 0.0004),4))"
   ]
  },
  {
   "attachments": {},
   "cell_type": "markdown",
   "metadata": {},
   "source": [
    "### 3. Монету подбросили 144 раза. Какова вероятность, что орел выпадет ровно 70 раз?\n",
    "\n",
    "Используя формулу Бернулли\n",
    "\n",
    ">$P(X=k) = C_{n}^{k} \\cdot {p}^{k} \\cdot {q}^{n-k}$\n",
    ">\n",
    ">$k$ - число наступления события (дискретная величина из отрезка $[0, n]$)<br>\n",
    ">$n$ -  число испытаний <br>\n",
    ">$p$ - вероятность наступления события $A$ в  независимых испытаниях, <br>\n",
    ">$q = 1 – p$ - Противоположная вероятность\n",
    "\n",
    "$P(X=70) = C_{144}^{70} \\cdot {0.5}^{70} \\cdot {0.5}^{144 - 70} \\approx 0.0628$\n",
    "\n",
    "Для вычисления ответа используем функцию"
   ]
  },
  {
   "cell_type": "code",
   "execution_count": 26,
   "metadata": {},
   "outputs": [
    {
     "name": "stdout",
     "output_type": "stream",
     "text": [
      "1400749509083708812152608657850239525991600\n",
      "8.470329472543003e-22\n",
      "5.293955920339377e-23\n",
      "0.0628\n"
     ]
    }
   ],
   "source": [
    "print(cf(70,144))\n",
    "print(0.5**70)\n",
    "print(0.5**(144-70))\n",
    "print(round(bernoulli(144, 70, 0.5), 4))"
   ]
  },
  {
   "attachments": {},
   "cell_type": "markdown",
   "metadata": {},
   "source": [
    "4. В первом ящике находится:<br>\n",
    "    10 мячей, из которых 7 - белые. <br>\n",
    "Во втором ящике:<br>\n",
    "    11 мячей, из которых 9 белых. <br>\n",
    "Из каждого ящика вытаскивают случайным образом по два мяча. \n",
    "\n",
    "Какова вероятность того, что все мячи белые? \n",
    "\n",
    "Какова вероятность того, что ровно два мяча белые? \n",
    "\n",
    "Какова вероятность того, что хотя бы один мяч белый?"
   ]
  },
  {
   "attachments": {},
   "cell_type": "markdown",
   "metadata": {},
   "source": [
    "## Решение\n",
    "### Какова вероятность того, что все мячи белые? \n",
    "\n",
    "### Способ 1\n",
    "\n",
    "Для решения этой задачи используем формулу вероятности появления двух независимых событий:\n",
    "\n",
    "$P(AB)=P(A) \\cdot P(B)$\n",
    "\n",
    "В данном случае $P(A)$ и $P(B)$ мы найдём по формуле\n",
    "\n",
    "$P=\\dfrac{число\\: исходов,\\: благоприятствующих\\: событию}{общее\\: число\\: исходов}$\n",
    "\n",
    "Для первого ящика число благоприятствующих исходов:\n",
    "\n",
    "$A_{2 белых} = C_{7}^2 = \\dfrac{7!}{2!\\cdot 5!}= 21$ \n",
    "\n",
    "Всего исходов\n",
    "\n",
    "$A_{2 любых} = C_{10}^2 = \\dfrac{10!}{2!\\cdot 8!}= 45$ \n",
    "\n",
    "$P(A)=\\dfrac{21}{45} = 7/15 = 0.4667$\n",
    "\n",
    "Для второго ящика число благоприятствующих исходов:\n",
    "\n",
    "$B = C_{9}^2 = \\dfrac{9!}{2!\\cdot 7!}= 36$ \n",
    "\n",
    "Всего исходов\n",
    "\n",
    "$A_{2 любых} = C_{11}^2 = \\dfrac{11!}{2!\\cdot 9!}= 55$ \n",
    "\n",
    "$P(A)=\\dfrac{36}{55} = 36/55 = 0.6545$\n",
    "\n",
    "$P(A) \\cdot P(B) = 7/15 \\cdot 36/55 = 84/275 \\approx 0.3055$\n",
    "\n",
    "Ответ:  $\\approx 0.3055$"
   ]
  },
  {
   "cell_type": "code",
   "execution_count": 41,
   "metadata": {},
   "outputs": [
    {
     "name": "stdout",
     "output_type": "stream",
     "text": [
      "21\n",
      "45\n",
      "7/15 = 0.4667 \n",
      "\n",
      "36\n",
      "55\n",
      "36/55 = 0.6545 \n",
      "\n",
      "84/275 = 0.3055\n"
     ]
    }
   ],
   "source": [
    "print(cf(2,7))\n",
    "print(cf(2,10))\n",
    "A = cf(2,7)/cf(2,10)\n",
    "print(A, '=', round(float(A), 4),'\\n')\n",
    "\n",
    "print(cf(2,9))\n",
    "print(cf(2,11))\n",
    "B = cf(2,9)/cf(2,11)\n",
    "print(B, '=', round(float(B), 4),'\\n')\n",
    "\n",
    "print(A*B, '=', round(float(A*B), 4))"
   ]
  },
  {
   "attachments": {},
   "cell_type": "markdown",
   "metadata": {},
   "source": [
    "### Способ 2\n",
    "\n",
    "Только один благоприятный исход $(ББ)(ББ)$, тогда, вынимая мячи из ящиков, мы изменяем вероятность достать следующий белый мяч и справедлив такой расчет:\n",
    "\n",
    "$P(AB) = 7/10 * 6/9 * 9/11 * 8/10 = \\dfrac{3024}{9900} \\approx 0.3055$"
   ]
  },
  {
   "cell_type": "code",
   "execution_count": 46,
   "metadata": {},
   "outputs": [
    {
     "name": "stdout",
     "output_type": "stream",
     "text": [
      "0.3054545454545454\n",
      "0.3055\n"
     ]
    }
   ],
   "source": [
    "print(7/10 * 6/9 * 9/11 * 8/10)\n",
    "print(round(7/10 * 6/9 * 9/11 * 8/10, 4))"
   ]
  },
  {
   "attachments": {},
   "cell_type": "markdown",
   "metadata": {},
   "source": [
    "### Какова вероятность того, что ровно два мяча белые?\n",
    "\n",
    "Решая вторым способом:\n",
    "\n",
    "В этом случае будет $6$ благоприятных исходов:\n",
    "\n",
    "$(ББ)(ЧЧ) + (БЧ)(БЧ) + (БЧ)(ЧБ) + (ЧБ)(БЧ) + (ЧБ)(ЧБ) + (ЧЧ)(ББ)$\n",
    "\n",
    "$P = (\\frac{7}{10} \\cdot \\frac{6}{9} \\cdot \\frac{2}{11} \\cdot \\frac{1}{10}) + (\\frac{7}{10} \\cdot \\frac{3}{9} \\cdot \\frac{9}{11} \\cdot \\frac{2}{10}) + (\\frac{7}{10} \\cdot \\frac{3}{9} \\cdot \\frac{2}{11} \\cdot \\frac{9}{10})$\n",
    "\n",
    "$+ (\\frac{3}{10} \\cdot \\frac{7}{9} \\cdot \\frac{9}{11} \\cdot \\frac{2}{10}) + (\\frac{3}{10} \\cdot \\frac{7}{9} \\cdot \\frac{2}{11} \\cdot \\frac{9}{10}) + (\\frac{3}{10} \\cdot \\frac{2}{9} \\cdot \\frac{9}{11} \\cdot \\frac{8}{10}) = $\n",
    "\n",
    "$\\frac{84}{9900} + \\frac{378}{9900} + \\frac{378}{9900} + \\frac{378}{9900} + \\frac{378}{9900} + \\frac{378}{9900} + \\frac{432}{9900} = \\frac{2028}{9900} \\approx 0.2048$\n",
    "\n",
    "Ответ $0.2048$"
   ]
  },
  {
   "cell_type": "code",
   "execution_count": 47,
   "metadata": {},
   "outputs": [
    {
     "data": {
      "text/plain": [
       "0.20484848484848484"
      ]
     },
     "execution_count": 47,
     "metadata": {},
     "output_type": "execute_result"
    }
   ],
   "source": [
    "2028/9900"
   ]
  },
  {
   "attachments": {},
   "cell_type": "markdown",
   "metadata": {},
   "source": [
    "### Какова вероятность того, что хотя бы один мяч белый?\n",
    "\n",
    "Решая вторым способом:\n",
    "\n",
    "Будем решать от обратного, найдем вероятность, что мы достанем все черные мячи\n",
    "\n",
    "$P = 1 - (\\frac{3}{10} \\cdot \\frac{2}{9} \\cdot \\frac{2}{11} \\cdot \\frac{1}{10}) = 1 - \\frac{12}{9900} \\approx 0.9988$ "
   ]
  },
  {
   "cell_type": "code",
   "execution_count": 49,
   "metadata": {},
   "outputs": [
    {
     "data": {
      "text/plain": [
       "0.9987878787878788"
      ]
     },
     "execution_count": 49,
     "metadata": {},
     "output_type": "execute_result"
    }
   ],
   "source": [
    "1 - 12/9900"
   ]
  },
  {
   "cell_type": "code",
   "execution_count": 1,
   "metadata": {},
   "outputs": [
    {
     "data": {
      "text/plain": [
       "0.8184024506760997"
      ]
     },
     "execution_count": 1,
     "metadata": {},
     "output_type": "execute_result"
    }
   ],
   "source": [
    "1*0.996**50"
   ]
  },
  {
   "cell_type": "code",
   "execution_count": 3,
   "metadata": {},
   "outputs": [
    {
     "data": {
      "text/plain": [
       "0.8187307530779818"
      ]
     },
     "execution_count": 3,
     "metadata": {},
     "output_type": "execute_result"
    }
   ],
   "source": [
    "import math\n",
    "math.e**(-0.2)"
   ]
  }
 ],
 "metadata": {
  "kernelspec": {
   "display_name": "Python 3",
   "language": "python",
   "name": "python3"
  },
  "language_info": {
   "codemirror_mode": {
    "name": "ipython",
    "version": 3
   },
   "file_extension": ".py",
   "mimetype": "text/x-python",
   "name": "python",
   "nbconvert_exporter": "python",
   "pygments_lexer": "ipython3",
   "version": "3.10.11"
  },
  "orig_nbformat": 4
 },
 "nbformat": 4,
 "nbformat_minor": 2
}
