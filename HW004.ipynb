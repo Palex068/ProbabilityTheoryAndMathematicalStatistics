{
 "cells": [
  {
   "attachments": {},
   "cell_type": "markdown",
   "metadata": {},
   "source": [
    "# Семинар 4 ДЗ"
   ]
  },
  {
   "attachments": {},
   "cell_type": "markdown",
   "metadata": {},
   "source": [
    "## Задание 1\n",
    "Случайная непрерывная величина $A$ имеет равномерное распределение на промежутке $(200, 800]$.\n",
    "\n",
    "Найдите ее среднее значение и дисперсию.\n",
    "\n",
    "Используем формулы:\n",
    "\n",
    "$M(x)=\\dfrac {a+b}{2}$\n",
    "\n",
    "$D= \\dfrac{(b-a)^2}{12}$\n",
    "\n",
    "$M(x)=\\dfrac {200+800}{2} = \\dfrac {1000}{2} = 500$\n",
    "\n",
    "$D= \\dfrac{(800-200)^2}{12} = \\dfrac{(800-200)^2}{12} = \\dfrac{(600)^2}{12} = 30000$\n"
   ]
  },
  {
   "attachments": {},
   "cell_type": "markdown",
   "metadata": {},
   "source": [
    "\n",
    "## Задание 2\n",
    "О случайной непрерывной равномерно распределенной величине B известно, что ее дисперсия равна 0.2.\n",
    "\n",
    "Можно ли найти правую границу величины B и ее среднее значение зная, что левая граница равна 0.5?\n",
    "\n",
    "Если да, найдите ее.\n",
    "\n",
    "Используем формулу:\n",
    "\n",
    "$D= \\dfrac{(b-a)^2}{12}$\n",
    "\n",
    "Подставим значения:\n",
    "\n",
    "$0.2=\\dfrac{(b-0.5)^2}{12}$\n",
    "\n",
    "$(b-0.5)^2 = 2.4$, возведем скобку в квадрат\n",
    "\n",
    "$b^2 - b + 0.25 - 2.4 = 0$\n",
    "\n",
    "$b^2 - b - 2.15 = 0$\n",
    "\n",
    "Найдем корни этого квадратного уравнения:"
   ]
  },
  {
   "cell_type": "code",
   "execution_count": 2,
   "metadata": {},
   "outputs": [
    {
     "name": "stdout",
     "output_type": "stream",
     "text": [
      "Корни уравнения: x1 = 2.049193338482967, x2 = -1.0491933384829668\n"
     ]
    }
   ],
   "source": [
    "import numpy as np\n",
    "\n",
    "def solve_quadratic_equation(a, b, c):\n",
    "    discriminant = b**2 - 4*a*c\n",
    "    if discriminant > 0:\n",
    "        x1 = (-b + np.sqrt(discriminant)) / (2*a)\n",
    "        x2 = (-b - np.sqrt(discriminant)) / (2*a)\n",
    "        return x1, x2\n",
    "    elif discriminant == 0:\n",
    "        x1 = -b / (2*a)\n",
    "        return x1\n",
    "    else:\n",
    "        return None\n",
    "\n",
    "# Задаем коэффициенты уравнения\n",
    "a = 1\n",
    "b = -1\n",
    "c = -2.15\n",
    "\n",
    "# Решение уравнения и вывод результатов\n",
    "result = solve_quadratic_equation(a, b, c)\n",
    "if result is None:\n",
    "    print(\"Уравнение не имеет действительных корней\")\n",
    "elif isinstance(result, tuple):\n",
    "    print(f\"Корни уравнения: x1 = {result[0]}, x2 = {result[1]}\")\n",
    "else:\n",
    "    print(f\"Корень уравнения: x = {result}\")"
   ]
  },
  {
   "attachments": {},
   "cell_type": "markdown",
   "metadata": {},
   "source": [
    "Так как нам известно, что $0.5$ это левая граница, то нам подходит корень $\\approx 2.05$, следовательно\n",
    "\n",
    "$M(x)=\\dfrac {a+b}{2}=\\dfrac {0.5+2.05}{2} = 1.275$"
   ]
  },
  {
   "attachments": {},
   "cell_type": "markdown",
   "metadata": {},
   "source": [
    "\n",
    "## Задание 3\n",
    "Непрерывная случайная величина X распределена нормально и задана плотностью распределения\n",
    "\n",
    "$f(x) = (1 / (4 * sqrt(2pi))) * exp((-(x+2)**2) / 32)$\n",
    "\n",
    "Найдите:\n",
    "\n",
    "1. $M(X)$\n",
    "\n",
    "2. $D(X)$\n",
    "\n",
    "3. $std(X)$ (среднее квадратичное отклонение)\n",
    "\n",
    "$f(x) = \\dfrac{1}{4 \\cdot \\sqrt{2\\pi}} \\cdot e^{-\\dfrac{(x+2)^2}{32}}$\n",
    "\n",
    "Используем формулу плотности распределения\n",
    "\n",
    "$f(x) = \\dfrac{1}{σ \\sqrt {2 \\pi}} e^{-\\dfrac{(x-\\mu)^2}{2σ^2}}$\n",
    "\n",
    "и сравним значения:\n",
    "\n",
    "Среднее арифметическое $M(X) = \\mu = -2$\n",
    "\n",
    "Дисперсия $D(X) = \\sigma ^2 = 32 / 2 = 16$\n",
    "\n",
    "$std(X)$ (среднее квадратичное отклонение) $\\sigma = \\sqrt{16} = 4$\n"
   ]
  },
  {
   "attachments": {},
   "cell_type": "markdown",
   "metadata": {},
   "source": [
    "## Задание 4\n",
    "Рост взрослого населения города $X$ имеет нормальное распределение.\n",
    "\n",
    "Причем, средний рост равен $174$ см, а среднее квадратичное отклонение равно $8$ см.\n",
    "\n",
    "Какова вероятность того, что случайным образом выбранный взрослый человек имеет рост:\n",
    "\n",
    "а). больше 182 см\n",
    "\n",
    "б). больше 190 см\n",
    "\n",
    "в). от 166 см до 190 см\n",
    "\n",
    "г). от 166 см до 182 см\n",
    "\n",
    "д). от 158 см до 190 см\n",
    "\n",
    "е). не выше 150 см или не ниже 190 см\n",
    "\n",
    "ё). не выше 150 см или не ниже 198 см\n",
    "\n",
    "ж). ниже 166 см.\n",
    "\n",
    "Данную задачу можно решить двумя способами:\n",
    "\n",
    "### Способ 1\n",
    "\n",
    "Если внимательно посмотреть на искомые интервалы, то можем обратить внимание на возможность применения правила $3\\sigma$ трёх сигм\n",
    "\n",
    "![Три сигма](https://upload.wikimedia.org/wikipedia/commons/thumb/3/37/Standard_deviation_diagram_%28decimal_comma%29.svg/325px-Standard_deviation_diagram_%28decimal_comma%29.svg.png)\n",
    "\n",
    "\n",
    "$-3\\sigma = 174 - 3 * 8 = 150$<br>\n",
    "$-2\\sigma = 174 - 2 * 8 = 158$<br>\n",
    "$-\\sigma = 174 - 8 = 166$<br>\n",
    "$\\sigma = 174 + 8 = 182$<br>\n",
    "$2\\sigma = 174 + 2 * 8 = 190$<br>\n",
    "$3\\sigma = 174 + 3 * 8 = 198$<br>\n",
    "\n",
    "\n",
    "\n"
   ]
  },
  {
   "cell_type": "code",
   "execution_count": 4,
   "metadata": {},
   "outputs": [],
   "source": [
    "from scipy import stats"
   ]
  },
  {
   "attachments": {},
   "cell_type": "markdown",
   "metadata": {},
   "source": [
    "а). больше $182$ см\n",
    "\n",
    "больше $\\sigma = 13.6\\% + 2.1\\% + 0.1\\% = 15.8\\%$\n",
    "\n",
    "или\n",
    "\n",
    "$100\\% - 50\\% - 34.1\\% = 15.9\\%$\n",
    "\n",
    "Проверим $2$ способом, при помощи python"
   ]
  },
  {
   "cell_type": "code",
   "execution_count": 5,
   "metadata": {},
   "outputs": [
    {
     "data": {
      "text/plain": [
       "0.15865525393145707"
      ]
     },
     "execution_count": 5,
     "metadata": {},
     "output_type": "execute_result"
    }
   ],
   "source": [
    "# а). больше 182 см\n",
    "1 - stats.norm.cdf(182, loc=174, scale=8)"
   ]
  },
  {
   "attachments": {},
   "cell_type": "markdown",
   "metadata": {},
   "source": [
    "б). больше $190$ см\n",
    "\n",
    "больше $2\\sigma = 2.1\\% + 0.1\\% = 2.2\\%$"
   ]
  },
  {
   "cell_type": "code",
   "execution_count": 6,
   "metadata": {},
   "outputs": [
    {
     "data": {
      "text/plain": [
       "0.02275013194817921"
      ]
     },
     "execution_count": 6,
     "metadata": {},
     "output_type": "execute_result"
    }
   ],
   "source": [
    "# б). больше 190 см\n",
    "1 - stats.norm.cdf(190, loc=174, scale=8)"
   ]
  },
  {
   "attachments": {},
   "cell_type": "markdown",
   "metadata": {},
   "source": [
    "в). от $166$ см до $190$ см\n",
    "\n",
    "от $−σ$ до $+2σ = 68.2\\% + 13.6\\% = 81.8\\%$"
   ]
  },
  {
   "cell_type": "code",
   "execution_count": 7,
   "metadata": {},
   "outputs": [
    {
     "data": {
      "text/plain": [
       "0.8185946141203637"
      ]
     },
     "execution_count": 7,
     "metadata": {},
     "output_type": "execute_result"
    }
   ],
   "source": [
    "# в). от 166 см до 190 см\n",
    "\n",
    "stats.norm.cdf(190, loc=174, scale=8) - stats.norm.cdf(166, loc=174, scale=8)"
   ]
  },
  {
   "attachments": {},
   "cell_type": "markdown",
   "metadata": {},
   "source": [
    "г). от $166$ см до $182$ см\n",
    "\n",
    "от $−σ$ до $+σ$ $=68.2\\%$"
   ]
  },
  {
   "cell_type": "code",
   "execution_count": 8,
   "metadata": {},
   "outputs": [
    {
     "data": {
      "text/plain": [
       "0.6826894921370859"
      ]
     },
     "execution_count": 8,
     "metadata": {},
     "output_type": "execute_result"
    }
   ],
   "source": [
    "# г). от 166 см до 182 см\n",
    "\n",
    "stats.norm.cdf(182, loc=174, scale=8) - stats.norm.cdf(166, loc=174, scale=8)"
   ]
  },
  {
   "attachments": {},
   "cell_type": "markdown",
   "metadata": {},
   "source": [
    "д). от $158$ см до $190$ см\n",
    "\n",
    "от $−2σ$ до $+2σ = 95.4\\%$"
   ]
  },
  {
   "cell_type": "code",
   "execution_count": 9,
   "metadata": {},
   "outputs": [
    {
     "data": {
      "text/plain": [
       "0.9544997361036416"
      ]
     },
     "execution_count": 9,
     "metadata": {},
     "output_type": "execute_result"
    }
   ],
   "source": [
    "# д). от 158 см до 190 см\n",
    "\n",
    "stats.norm.cdf(190, loc=174, scale=8) - stats.norm.cdf(158, loc=174, scale=8)"
   ]
  },
  {
   "attachments": {},
   "cell_type": "markdown",
   "metadata": {},
   "source": [
    "е). не выше $150$ см или не ниже $190$ см\n",
    "\n",
    "меньше $−3σ$ и больше $2σ = 0.1\\% + 2.1\\% + 0.1\\% = 2.3\\%$"
   ]
  },
  {
   "cell_type": "code",
   "execution_count": 10,
   "metadata": {},
   "outputs": [
    {
     "data": {
      "text/plain": [
       "0.0241000299798093"
      ]
     },
     "execution_count": 10,
     "metadata": {},
     "output_type": "execute_result"
    }
   ],
   "source": [
    "# е). не выше 150 см или не ниже 190 см\n",
    "\n",
    "1 - stats.norm.cdf(190, loc=174, scale=8) + stats.norm.cdf(150, loc=174, scale=8)"
   ]
  },
  {
   "attachments": {},
   "cell_type": "markdown",
   "metadata": {},
   "source": [
    "ё). не выше $150$ см или не ниже $198$ см\n",
    "\n",
    "меньше $−3σ$ и больше $3σ = 0.1\\% + 0.1\\% = 0.2\\%$"
   ]
  },
  {
   "cell_type": "code",
   "execution_count": 11,
   "metadata": {},
   "outputs": [
    {
     "data": {
      "text/plain": [
       "0.0026997960632601965"
      ]
     },
     "execution_count": 11,
     "metadata": {},
     "output_type": "execute_result"
    }
   ],
   "source": [
    "# ё). не выше 150 см или не ниже 198 см\n",
    "\n",
    "1 - stats.norm.cdf(198, loc=174, scale=8) + stats.norm.cdf(150, loc=174, scale=8)"
   ]
  },
  {
   "attachments": {},
   "cell_type": "markdown",
   "metadata": {},
   "source": [
    "ж). ниже $166$ см.\n",
    "\n",
    "меньше $−σ = 13.6\\% + 2.1\\% + 0.1\\% = 15.8\\%$ "
   ]
  },
  {
   "cell_type": "code",
   "execution_count": 12,
   "metadata": {},
   "outputs": [
    {
     "data": {
      "text/plain": [
       "0.15865525393145707"
      ]
     },
     "execution_count": 12,
     "metadata": {},
     "output_type": "execute_result"
    }
   ],
   "source": [
    "# ж). ниже 166 см.\n",
    "stats.norm.cdf(166, loc=174, scale=8)"
   ]
  },
  {
   "attachments": {},
   "cell_type": "markdown",
   "metadata": {},
   "source": [
    "\n",
    "## Задание 5\n",
    "На сколько сигм (средних квадратичных отклонений) отклоняется рост человека, равный 190 см, от математического ожидания роста в популяции, в которой M(X) = 178 см и D(X) = 25 кв.см?\n",
    "\n",
    "Применим формулу нормирования:\n",
    "\n",
    "$Z=\\dfrac {X-μ}{σ}$\n",
    "\n",
    "$Z=\\dfrac {190-178}{\\sqrt{25}} = \\dfrac{12}{5} = 2.4\\sigma$"
   ]
  }
 ],
 "metadata": {
  "kernelspec": {
   "display_name": "Python 3",
   "language": "python",
   "name": "python3"
  },
  "language_info": {
   "codemirror_mode": {
    "name": "ipython",
    "version": 3
   },
   "file_extension": ".py",
   "mimetype": "text/x-python",
   "name": "python",
   "nbconvert_exporter": "python",
   "pygments_lexer": "ipython3",
   "version": "3.10.11"
  },
  "orig_nbformat": 4
 },
 "nbformat": 4,
 "nbformat_minor": 2
}
