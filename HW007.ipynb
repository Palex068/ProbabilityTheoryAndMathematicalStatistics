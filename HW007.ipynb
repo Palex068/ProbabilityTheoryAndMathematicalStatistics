{
 "cells": [
  {
   "cell_type": "markdown",
   "metadata": {},
   "source": [
    "# Семинар 7 ДЗ"
   ]
  },
  {
   "attachments": {},
   "cell_type": "markdown",
   "metadata": {},
   "source": [
    "## Задача 1. \n",
    "Даны две независимые выборки. Не соблюдается условие нормальности\n",
    "\n",
    "$x1 = 380, 420, 290$<br>\n",
    "$y1 = 140, 360, 200, 900$\n",
    "\n",
    "Сделайте вывод по результатам, полученным с помощью функции, имеются ли статистические различия между группами?"
   ]
  },
  {
   "attachments": {},
   "cell_type": "markdown",
   "metadata": {},
   "source": [
    "## Решение\n",
    "\n",
    "Для решения данной задачи мы будем использовать Критерий Манна – Уитни\n",
    "\n",
    "Его следует использовать для сравнения двух независимых выборок, если не соблюдается условие нормальности, или, если выборки очень маленького объема."
   ]
  },
  {
   "cell_type": "code",
   "execution_count": 17,
   "metadata": {},
   "outputs": [],
   "source": [
    "from scipy import stats\n",
    "import numpy as np"
   ]
  },
  {
   "cell_type": "code",
   "execution_count": 18,
   "metadata": {},
   "outputs": [],
   "source": [
    "x = np.array([380, 420, 290])\n",
    "y = np.array([140, 360, 200, 900])"
   ]
  },
  {
   "cell_type": "code",
   "execution_count": 19,
   "metadata": {},
   "outputs": [
    {
     "data": {
      "text/plain": [
       "MannwhitneyuResult(statistic=8.0, pvalue=0.6285714285714286)"
      ]
     },
     "execution_count": 19,
     "metadata": {},
     "output_type": "execute_result"
    }
   ],
   "source": [
    "stats.mannwhitneyu(x, y)"
   ]
  },
  {
   "attachments": {},
   "cell_type": "markdown",
   "metadata": {},
   "source": [
    "Как мы можем интерпретировать полученные данные?\n",
    "\n",
    "$pvalue \\approx 0.63$\n",
    "\n",
    "$pvalue$ больше любых стандартных $\\alpha$, следовательно нулевая гипотеза об отсутствии статистически значимых различий принимается.\n",
    "\n",
    "Статистических различий между группами нет!\n"
   ]
  },
  {
   "attachments": {},
   "cell_type": "markdown",
   "metadata": {},
   "source": [
    "## Задача 2. \n",
    "Исследовалось влияние препарата на уровень давления пациентов. \n",
    "\n",
    "Сначала измерялось давление до приема препарата, потом через 10 минут и через 30 минут. \n",
    "\n",
    "Есть ли статистически значимые различия между измерениями давления? \n",
    "\n",
    "В выборках не соблюдается условие нормальности.\n",
    "\n",
    "$1$е измерение до приема препарата: $150, 160, 165, 145, 155$<br>\n",
    "$2$е измерение через $10$ минут: $140, 155, 150, 130, 135$<br>\n",
    "$3$е измерение через $30$ минут: $130, 130, 120, 130, 125$<br>"
   ]
  },
  {
   "attachments": {},
   "cell_type": "markdown",
   "metadata": {},
   "source": [
    "## Решение\n",
    "\n",
    "Для данного случая применим критерий Фридмана, так как в данном случае мы имеем множественные, повторные измерения."
   ]
  },
  {
   "cell_type": "code",
   "execution_count": 25,
   "metadata": {},
   "outputs": [],
   "source": [
    "A = np.array ([150, 160, 165, 145, 155])\n",
    "B = np.array ([140, 155, 150, 130, 135])\n",
    "C = np.array ([130, 130, 120, 130, 125])"
   ]
  },
  {
   "cell_type": "code",
   "execution_count": 26,
   "metadata": {},
   "outputs": [
    {
     "data": {
      "text/plain": [
       "FriedmanchisquareResult(statistic=9.578947368421062, pvalue=0.00831683351100441)"
      ]
     },
     "execution_count": 26,
     "metadata": {},
     "output_type": "execute_result"
    }
   ],
   "source": [
    "stats.friedmanchisquare(A, B, C)"
   ]
  },
  {
   "attachments": {},
   "cell_type": "markdown",
   "metadata": {},
   "source": [
    "Как мы можем интерпретировать полученный результат?\n",
    "\n",
    "$pvalue \\approx 0.0083$\n",
    "\n",
    "$0.0083 < 0.05$ \n",
    "\n",
    "$pvalue$ существенно ниже среднего уровня значимости $\\alpha = 0.05$, следовательно нулевая гипотеза об отсутствии статистически значимых различий отвергается, статистически значимые различия между измерениями давления есть!\n"
   ]
  },
  {
   "attachments": {},
   "cell_type": "markdown",
   "metadata": {},
   "source": [
    "## Задача 3. \n",
    "Сравните $1$ и $2$-е измерения, предполагая, что $3$го измерения через $30$ минут не было. \n",
    "\n",
    "Есть ли статистически значимые различия между измерениями давления?"
   ]
  },
  {
   "attachments": {},
   "cell_type": "markdown",
   "metadata": {},
   "source": [
    "## Решение\n",
    "\n",
    "Так как в данном случае мы имеем две зависимые выборки, то мы применим критерий Уилкоксона"
   ]
  },
  {
   "cell_type": "code",
   "execution_count": 27,
   "metadata": {},
   "outputs": [
    {
     "data": {
      "text/plain": [
       "array([10,  5, 15, 15, 20])"
      ]
     },
     "execution_count": 27,
     "metadata": {},
     "output_type": "execute_result"
    }
   ],
   "source": [
    "A = np.array ([150, 160, 165, 145, 155])\n",
    "B = np.array ([140, 155, 150, 130, 135])\n",
    "C = np.array ([130, 130, 120, 130, 125])\n",
    "A-B"
   ]
  },
  {
   "cell_type": "code",
   "execution_count": 33,
   "metadata": {},
   "outputs": [
    {
     "data": {
      "text/plain": [
       "WilcoxonResult(statistic=0.0, pvalue=0.0625)"
      ]
     },
     "execution_count": 33,
     "metadata": {},
     "output_type": "execute_result"
    }
   ],
   "source": [
    "stats.wilcoxon(A, B)"
   ]
  },
  {
   "attachments": {},
   "cell_type": "markdown",
   "metadata": {},
   "source": [
    "$pvalue > \\alpha =>$\n",
    "\n",
    "Нулевая гипотеза о равенстве не отвергается, таким образом мы можем сделать вывод о том, что через десять минут прием препарата не оказывает статистически значимого влияния."
   ]
  },
  {
   "attachments": {},
   "cell_type": "markdown",
   "metadata": {},
   "source": [
    "В качестве эксперимента, в дополнение к заданию, сравним группы $A$ и $C$"
   ]
  },
  {
   "cell_type": "code",
   "execution_count": 24,
   "metadata": {},
   "outputs": [
    {
     "data": {
      "text/plain": [
       "WilcoxonResult(statistic=0.0, pvalue=0.0625)"
      ]
     },
     "execution_count": 24,
     "metadata": {},
     "output_type": "execute_result"
    }
   ],
   "source": [
    "stats.wilcoxon(A, C)"
   ]
  },
  {
   "attachments": {},
   "cell_type": "markdown",
   "metadata": {},
   "source": [
    "Мы видим тот же результат, так как статистика в обоих случаях равна $0$, в обоих последующих измерениях давление снизилось. "
   ]
  },
  {
   "attachments": {},
   "cell_type": "markdown",
   "metadata": {},
   "source": [
    "## Задача 4. \n",
    "\n",
    "Даны $3$ группы учеников плавания. Не соблюдается условие нормальности.\n",
    "\n",
    "В $1$ группе время на дистанцию $50$ м составляют:\n",
    "\n",
    "Первая группа: $56, 60, 62, 55, 71, 67, 59, 58, 64, 67$<br>\n",
    "Вторая группа: $57, 58, 69, 48, 72, 70, 68, 71, 50, 53$<br>\n",
    "Третья группа: $57, 67, 49, 48, 47, 55, 66, 51, 54$<br>\n",
    "\n",
    "Есть ли статистически значимые различия между группами?"
   ]
  },
  {
   "attachments": {},
   "cell_type": "markdown",
   "metadata": {},
   "source": [
    "## Решение\n",
    "\n",
    "Здесь мы имеем три независимые выборки, поэтому применим критерий Критерий Крускала – Уоллиса"
   ]
  },
  {
   "cell_type": "code",
   "execution_count": 34,
   "metadata": {},
   "outputs": [
    {
     "data": {
      "text/plain": [
       "KruskalResult(statistic=5.465564058257224, pvalue=0.06503809985904942)"
      ]
     },
     "execution_count": 34,
     "metadata": {},
     "output_type": "execute_result"
    }
   ],
   "source": [
    "gr1 =([56, 60, 62, 55, 71, 67, 59, 58, 64, 67])\n",
    "gr2 = ([57, 58, 69, 48, 72, 70, 68, 71, 50, 53])\n",
    "gr3 = ([57, 67, 49, 48, 47, 55, 66, 51, 54])\n",
    "\n",
    "stats.kruskal(gr1, gr2, gr3)"
   ]
  },
  {
   "attachments": {},
   "cell_type": "markdown",
   "metadata": {},
   "source": [
    "Так как $pvalue \\approx 0.065$ , что больше $\\alpha = 0.05$ мы можем сделать вывод, что статистически занчимых различий между группами нет!"
   ]
  },
  {
   "attachments": {},
   "cell_type": "markdown",
   "metadata": {},
   "source": [
    "## Задача 5. \n",
    "Заявляется, что партия изготавливается со средним арифметическим $2,5$ см. \n",
    "\n",
    "Проверить данную гипотезу, если известно, что размеры изделий подчинены нормальному закону распределения. \n",
    "\n",
    "Объем выборки $10$,<br> \n",
    "уровень статистической значимости $5\\%$\n",
    "\n",
    "$2.51, 2.35, 2.74, 2.56, 2.40, 2.36, 2.65, 2.7, 2.67, 2.34$"
   ]
  },
  {
   "attachments": {},
   "cell_type": "markdown",
   "metadata": {},
   "source": [
    "## Решение\n",
    "\n",
    "1. Сформулируем нулевую и альтернативную гипотезу<br>\n",
    "$H_0: \\mu_x = 2.5$<br>\n",
    "$H_0: \\mu_x \\neq 2.5$\n",
    "\n",
    "2. Уровень статистической значимости $5\\%$, $\\alpha = 0.05$\n",
    "\n",
    "3. Так как в этой задаче мы не знаем СКО генеральной совокупности, то мы будем использовать t-статистику, которая имеет распределение Стьюдента.<br>\n",
    " <br>\n",
    "$t_{наблюдаемое} = \\dfrac{\\overline{X_1}−\\mu}{\\dfrac{\\sigma_x}{\\sqrt{𝑛}}}$\n",
    "\n",
    "Рассчитаем необходимые данные при помощи python"
   ]
  },
  {
   "cell_type": "code",
   "execution_count": 36,
   "metadata": {},
   "outputs": [],
   "source": [
    "alpha = 0.05\n",
    "n = 10\n",
    "mu = 2.5\n",
    "\n",
    "x = np.array([2.51, 2.35, 2.74, 2.56, 2.40, 2.36, 2.65, 2.7, 2.67, 2.34])"
   ]
  },
  {
   "cell_type": "code",
   "execution_count": 37,
   "metadata": {},
   "outputs": [
    {
     "data": {
      "text/plain": [
       "(0.1572542173961923, 2.5279999999999996)"
      ]
     },
     "execution_count": 37,
     "metadata": {},
     "output_type": "execute_result"
    }
   ],
   "source": [
    "sigma = x.std(ddof=1)\n",
    "x_mean = x.mean()\n",
    "sigma, x_mean"
   ]
  },
  {
   "attachments": {},
   "cell_type": "markdown",
   "metadata": {},
   "source": [
    "4. Определим критические области:<br>"
   ]
  },
  {
   "cell_type": "code",
   "execution_count": 38,
   "metadata": {},
   "outputs": [
    {
     "data": {
      "text/plain": [
       "(-2.262157162740992, 2.2621571627409915)"
      ]
     },
     "execution_count": 38,
     "metadata": {},
     "output_type": "execute_result"
    }
   ],
   "source": [
    "t1 = stats.t.ppf(alpha/2, df=n-1)\n",
    "t2 = stats.t.ppf(1 - alpha/2, df=n-1)\n",
    "\n",
    "t1, t2"
   ]
  },
  {
   "attachments": {},
   "cell_type": "markdown",
   "metadata": {},
   "source": [
    "5. Расчитаем $t_{наблюдаемое}$"
   ]
  },
  {
   "cell_type": "code",
   "execution_count": 39,
   "metadata": {},
   "outputs": [
    {
     "data": {
      "text/plain": [
       "0.5630613661802959"
      ]
     },
     "execution_count": 39,
     "metadata": {},
     "output_type": "execute_result"
    }
   ],
   "source": [
    "t_emp = (x_mean - mu)/ (sigma / n ** 0.5)\n",
    "t_emp"
   ]
  },
  {
   "attachments": {},
   "cell_type": "markdown",
   "metadata": {},
   "source": [
    "$t_{наблюдаемое}$ не принадлежит критической области:\n",
    "\n",
    "$-2.26 \\leq 0.56 \\leq 2.26 $, \n",
    "\n",
    "следовательно гипотеза $H_0$ не отвергается!"
   ]
  }
 ],
 "metadata": {
  "kernelspec": {
   "display_name": "Python 3",
   "language": "python",
   "name": "python3"
  },
  "language_info": {
   "codemirror_mode": {
    "name": "ipython",
    "version": 3
   },
   "file_extension": ".py",
   "mimetype": "text/x-python",
   "name": "python",
   "nbconvert_exporter": "python",
   "pygments_lexer": "ipython3",
   "version": "3.10.11"
  },
  "orig_nbformat": 4
 },
 "nbformat": 4,
 "nbformat_minor": 2
}
