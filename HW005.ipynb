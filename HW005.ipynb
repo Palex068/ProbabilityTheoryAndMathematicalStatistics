{
 "cells": [
  {
   "cell_type": "markdown",
   "metadata": {},
   "source": [
    "# Семинар 5 ДЗ"
   ]
  },
  {
   "attachments": {},
   "cell_type": "markdown",
   "metadata": {},
   "source": [
    "## Задача 1. \n",
    "Когда используется критерий Стьюдента, а когда $Z$ –критерий?"
   ]
  },
  {
   "attachments": {},
   "cell_type": "markdown",
   "metadata": {},
   "source": [
    "## Решение\n",
    "\n",
    "Для проверки гипотез относительно математического ожидания нормально\n",
    "распределенной случайной величины с известной дисперсией используется Z-статистика:\n",
    "\n",
    "$Z_{наблюдаемое}=\\dfrac{\\overline X - \\mu}{\\dfrac{\\sigma}{\\sqrt{n}}}$\n",
    "\n",
    "В предположении верности нулевой гипотезы $z$-статистика имеет стандартное нормальное распределение $(0, 1)$\n",
    "\n",
    "Если дисперсия не известна, используется t-статистика<br>\n",
    "В предположении верности нулевой гипотезы t-статистика имеет\n",
    "распределение Стьюдента\n",
    "\n",
    "$t_{наблюдаемое} = \\dfrac{\\overline{X_1}−\\mu}{\\dfrac{\\sigma_x}{\\sqrt{𝑛}}}$\n"
   ]
  },
  {
   "attachments": {},
   "cell_type": "markdown",
   "metadata": {},
   "source": [
    "## Задача 2.\n",
    "\n",
    "Проведите тест гипотезы. <br>\n",
    "Утверждается, что шарики для подшипников, изготовленные автоматическим станком, имеют средний диаметр $17$ мм.\n",
    "\n",
    "Используя односторонний критерий с $α=0,05$, проверить эту гипотезу, если в выборке из $n=100$ шариков средний диаметр оказался равным $17.5$ мм, а дисперсия известна и равна $4$ кв. мм."
   ]
  },
  {
   "attachments": {},
   "cell_type": "markdown",
   "metadata": {},
   "source": [
    "### Решение\n",
    "\n",
    "1. Сформулируем нулевую и альтернативную гипотезы:<br>\n",
    "$H_0: \\mu_x = 17$<br>\n",
    "$H_1: \\mu_x > 17$\n",
    "\n",
    "2. Уровень значимости $\\alpha = 0.05$\n",
    "\n",
    "3. Так как в этой задаче определена дисперсия и мы можем найти $\\sigma (СКО)$ генеральной совокупности используем формулу:<br>\n",
    " <br>\n",
    "$Z_н=\\dfrac{\\bar X - \\mu}{\\dfrac{\\sigma}{\\sqrt{n}}}$<br>\n",
    " <br>\n",
    "$\\sigma = \\sqrt{D(X)} = \\sqrt{4} = 2$<br>\n",
    " <br>\n",
    "$Z_{наблюдаемое}=\\dfrac{17.5 - 17}{\\dfrac{2}{\\sqrt{100}}} = \\dfrac{5}{2} = 2.5$\n",
    "\n",
    "4. Определим критическую область:<br>\n",
    "При помощи таблицы $Z$ значений получаем $\\approx 1.645$<br>\n",
    "И посчитаем при помощи python<br>\n",
    "$Z_{критическое} \\approx 1.6449$"
   ]
  },
  {
   "cell_type": "code",
   "execution_count": 3,
   "metadata": {},
   "outputs": [],
   "source": [
    "import numpy as np\n",
    "import scipy.stats as stats"
   ]
  },
  {
   "cell_type": "code",
   "execution_count": 6,
   "metadata": {},
   "outputs": [
    {
     "name": "stdout",
     "output_type": "stream",
     "text": [
      "1.6449\n"
     ]
    },
    {
     "data": {
      "text/plain": [
       "1.6448536269514722"
      ]
     },
     "execution_count": 6,
     "metadata": {},
     "output_type": "execute_result"
    }
   ],
   "source": [
    "alpha = 0.05\n",
    "n = 100\n",
    "\n",
    "Z = stats.norm.ppf(1- alpha)  # ПКО - правосторонняя критическая область\n",
    "\n",
    "print(round(Z, 4))\n",
    "Z"
   ]
  },
  {
   "attachments": {},
   "cell_type": "markdown",
   "metadata": {},
   "source": [
    "5. Сравним наблюдаемое и критическое значения и увидим, что:<br>\n",
    "$Z_{наблюдаемое} > Z_{критическое}$,<br>\n",
    "$2.5 > 1.6449$,<br>\n",
    "следовательно оно попадает в критическую область и $H_0$ (нулевая гипотеза) отвергается!"
   ]
  },
  {
   "attachments": {},
   "cell_type": "markdown",
   "metadata": {},
   "source": [
    "## Задача 3\n",
    "\n",
    "Проведите тест гипотезы. Продавец утверждает, что средний вес пачки печенья составляет $200$ г.\n",
    "\n",
    "Из партии извлечена выборка из $10$ пачек. Вес каждой пачки составляет:\n",
    "\n",
    "$202, 203, 199, 197, 195, 201, 200, 204, 194, 190.$\n",
    "\n",
    "Известно, что их веса распределены нормально.\n",
    "\n",
    "Верно ли утверждение продавца, если учитывать, что доверительная вероятность равна $99\\%$? (Провести двусторонний тест.)"
   ]
  },
  {
   "attachments": {},
   "cell_type": "markdown",
   "metadata": {},
   "source": [
    "## Решение\n",
    "\n",
    "1. Сформулируем нулевую и альтернативную гипотезы:<br>\n",
    "$H_0: \\mu_x = 200$<br>\n",
    "$H_1: \\mu_x \\neq 200$\n",
    "\n",
    "2. Уровень значимости $\\alpha = 0.01$\n",
    "\n",
    "3. Так как в этой задаче мы не знаем СКО генеральной совокупности, то мы будем использовать t-статистику, которая имеет распределение Стьюдента.<br>\n",
    " <br>\n",
    "$t_{наблюдаемое} = \\dfrac{\\overline{X_1}−\\mu}{\\dfrac{\\sigma_x}{\\sqrt{𝑛}}}$\n",
    "\n",
    "Рассчитаем необходимые данные при помощи python"
   ]
  },
  {
   "cell_type": "code",
   "execution_count": 7,
   "metadata": {},
   "outputs": [],
   "source": [
    "alpha = 0.01\n",
    "n = 10\n",
    "mu = 200\n",
    "\n",
    "x = np.array([202, 203, 199, 197, 195, 201, 200, 204, 194, 190])"
   ]
  },
  {
   "cell_type": "code",
   "execution_count": 8,
   "metadata": {},
   "outputs": [
    {
     "data": {
      "text/plain": [
       "(4.453463071962462, 198.5)"
      ]
     },
     "execution_count": 8,
     "metadata": {},
     "output_type": "execute_result"
    }
   ],
   "source": [
    "sigma = x.std(ddof=1)\n",
    "x_mean = x.mean()\n",
    "sigma, x_mean"
   ]
  },
  {
   "attachments": {},
   "cell_type": "markdown",
   "metadata": {},
   "source": [
    "4. Определим критические области:<br>"
   ]
  },
  {
   "cell_type": "code",
   "execution_count": 9,
   "metadata": {},
   "outputs": [
    {
     "data": {
      "text/plain": [
       "(-3.2498355440153697, 3.2498355440153697)"
      ]
     },
     "execution_count": 9,
     "metadata": {},
     "output_type": "execute_result"
    }
   ],
   "source": [
    "t1 = stats.t.ppf(alpha/2, df=n-1)\n",
    "t2 = stats.t.ppf(1 - alpha/2, df=n-1)\n",
    "\n",
    "t1, t2"
   ]
  },
  {
   "attachments": {},
   "cell_type": "markdown",
   "metadata": {},
   "source": [
    "5. Расчитаем $t_{наблюдаемое}$"
   ]
  },
  {
   "cell_type": "code",
   "execution_count": 11,
   "metadata": {},
   "outputs": [
    {
     "data": {
      "text/plain": [
       "-1.0651074037450896"
      ]
     },
     "execution_count": 11,
     "metadata": {},
     "output_type": "execute_result"
    }
   ],
   "source": [
    "t_emp = (x_mean - mu)/ (sigma / n ** 0.5)\n",
    "t_emp"
   ]
  },
  {
   "attachments": {},
   "cell_type": "markdown",
   "metadata": {},
   "source": [
    "$t_{наблюдаемое}$ не принадлежит критической области:\n",
    "\n",
    "$-3.25 \\leq -1.065 \\leq 3.25 $, \n",
    "\n",
    "следовательно гипотеза $H_0$ не отвергается!"
   ]
  },
  {
   "attachments": {},
   "cell_type": "markdown",
   "metadata": {},
   "source": [
    "## Задача 4. \n",
    "Есть ли статистически значимые различия между средним ростом\n",
    "дочерей и матерей?\n",
    "\n",
    "Рост матерей $172, 177, 158, 170, 178, 175, 164, 160, 169, 165$\n",
    "\n",
    "Рост взрослых дочерей: $173, 175, 162, 174, 175, 168, 155, 170, 160, 163$"
   ]
  },
  {
   "cell_type": "code",
   "execution_count": 25,
   "metadata": {},
   "outputs": [],
   "source": [
    "x = np.array([172, 177, 158, 170, 178, 175, 164, 160, 169, 165])\n",
    "y = np.array([173, 175, 162, 174, 175, 168, 155, 170, 160, 163])"
   ]
  },
  {
   "cell_type": "code",
   "execution_count": 26,
   "metadata": {},
   "outputs": [
    {
     "name": "stdout",
     "output_type": "stream",
     "text": [
      "168.8 167.5 48.17777777777778 50.5 10 10\n"
     ]
    },
    {
     "data": {
      "text/plain": [
       "[168.8, 167.5, 48.1778, 50.5, 10, 10]"
      ]
     },
     "execution_count": 26,
     "metadata": {},
     "output_type": "execute_result"
    }
   ],
   "source": [
    "x_mean = np.mean(x) # Считаем среднее по x\n",
    "y_mean = np.mean(y) # Считаем среднее по y\n",
    "x_v = np.var(x, ddof=1) # Считаем несмещенную дисперсию по x\n",
    "y_v = np.var(y, ddof=1) # Считаем несмещенную дисперсию по y\n",
    "n_x = len(x) # количество элементов выборки x\n",
    "n_y = len(y) # количество элементов выборки Y\n",
    "print(x_mean, y_mean, x_v, y_v, n_x, n_y)\n",
    "result = [round(k, 4) for k in (x_mean, y_mean, x_v, y_v, n_x, n_y)]\n",
    "result"
   ]
  },
  {
   "cell_type": "code",
   "execution_count": 27,
   "metadata": {},
   "outputs": [
    {
     "data": {
      "text/plain": [
       "0.41384114976800535"
      ]
     },
     "execution_count": 27,
     "metadata": {},
     "output_type": "execute_result"
    }
   ],
   "source": [
    "t_emp = (x_mean - y_mean) / np.sqrt(x_v / n_x + y_v / n_y)\n",
    "t_emp"
   ]
  },
  {
   "cell_type": "code",
   "execution_count": 28,
   "metadata": {},
   "outputs": [
    {
     "data": {
      "text/plain": [
       "(-2.10092204024096, 2.10092204024096)"
      ]
     },
     "execution_count": 28,
     "metadata": {},
     "output_type": "execute_result"
    }
   ],
   "source": [
    "alpha = 0.05\n",
    "n = n_x\n",
    "\n",
    "t1 = stats.t.ppf(alpha / 2, df=2 * (n - 1))\n",
    "t2 = stats.t.ppf(1 - alpha / 2, df= 2 * (n - 1))\n",
    "t1, t2 # находим критические значения"
   ]
  },
  {
   "attachments": {},
   "cell_type": "markdown",
   "metadata": {},
   "source": [
    "Из приведенных вычислений можем сделать вывод: <br>\n",
    "$t_{наблюдаемое}$ не принадлежит критической области:\n",
    "\n",
    "$-3.25 \\leq -1.065 \\leq 3.25 $, \n",
    "\n",
    "следовательно гипотеза $H_0$ не отвергается!"
   ]
  },
  {
   "cell_type": "code",
   "execution_count": 30,
   "metadata": {},
   "outputs": [
    {
     "data": {
      "text/plain": [
       "Ttest_indResult(statistic=0.4138411497680053, pvalue=0.68387966499013)"
      ]
     },
     "execution_count": 30,
     "metadata": {},
     "output_type": "execute_result"
    }
   ],
   "source": [
    "stats.ttest_ind(x, y)"
   ]
  },
  {
   "attachments": {},
   "cell_type": "markdown",
   "metadata": {},
   "source": [
    "При использовании встроенного теста, результат аналогичный :<br> \n",
    "$pvalue \\approx 0.52$, что существенно выше любого стандартного $a$, следовательно гипотеза $H_0$ не отвергается!"
   ]
  }
 ],
 "metadata": {
  "kernelspec": {
   "display_name": "Python 3",
   "language": "python",
   "name": "python3"
  },
  "language_info": {
   "codemirror_mode": {
    "name": "ipython",
    "version": 3
   },
   "file_extension": ".py",
   "mimetype": "text/x-python",
   "name": "python",
   "nbconvert_exporter": "python",
   "pygments_lexer": "ipython3",
   "version": "3.10.11"
  },
  "orig_nbformat": 4
 },
 "nbformat": 4,
 "nbformat_minor": 2
}
